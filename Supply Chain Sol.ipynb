{
 "cells": [
  {
   "cell_type": "code",
   "execution_count": 1,
   "metadata": {},
   "outputs": [],
   "source": [
    "import numpy as np\n",
    "import pandas as pd\n",
    "import matplotlib.pyplot as plt\n",
    "import seaborn as sns\n",
    "import warnings \n",
    "warnings.filterwarnings(\"ignore\")\n",
    "pd.set_option('display.max_columns',None)\n",
    "# pd.set_option('display.max_rows',100)\n",
    "from sklearn.model_selection import train_test_split\n",
    "from sklearn.preprocessing import StandardScaler, OneHotEncoder, LabelEncoder\n",
    "from sklearn.metrics import confusion_matrix,classification_report,recall_score,precision_score,f1_score\n",
    "from sklearn import metrics\n",
    "from sklearn.model_selection import GridSearchCV\n",
    "from sklearn.neighbors import KNeighborsClassifier\n",
    "from sklearn.naive_bayes import GaussianNB\n",
    "from sklearn.model_selection import cross_val_score "
   ]
  },
  {
   "cell_type": "markdown",
   "metadata": {},
   "source": [
    "## Read Dataset"
   ]
  },
  {
   "cell_type": "code",
   "execution_count": 2,
   "metadata": {},
   "outputs": [],
   "source": [
    "Train_set = pd.read_csv(\"Train_Set.csv\")\n",
    "Test_set = pd.read_csv(\"Test_Set.csv\")"
   ]
  },
  {
   "cell_type": "code",
   "execution_count": 3,
   "metadata": {},
   "outputs": [
    {
     "data": {
      "text/html": [
       "<div>\n",
       "<style scoped>\n",
       "    .dataframe tbody tr th:only-of-type {\n",
       "        vertical-align: middle;\n",
       "    }\n",
       "\n",
       "    .dataframe tbody tr th {\n",
       "        vertical-align: top;\n",
       "    }\n",
       "\n",
       "    .dataframe thead th {\n",
       "        text-align: right;\n",
       "    }\n",
       "</style>\n",
       "<table border=\"1\" class=\"dataframe\">\n",
       "  <thead>\n",
       "    <tr style=\"text-align: right;\">\n",
       "      <th></th>\n",
       "      <th>OrderId</th>\n",
       "      <th>Customer_Id</th>\n",
       "      <th>Customer_Category</th>\n",
       "      <th>Cust_State</th>\n",
       "      <th>Zipcode</th>\n",
       "      <th>Sales</th>\n",
       "      <th>Order_zone</th>\n",
       "      <th>Price</th>\n",
       "      <th>CategoryName</th>\n",
       "      <th>Transcation</th>\n",
       "      <th>Dept_Id</th>\n",
       "      <th>Dept_Name</th>\n",
       "      <th>Profit_Ratio</th>\n",
       "      <th>Discount</th>\n",
       "      <th>Quantity</th>\n",
       "      <th>Order_Profit</th>\n",
       "      <th>Product_type</th>\n",
       "      <th>Prod_Category_Id</th>\n",
       "      <th>ProductLength</th>\n",
       "      <th>ProductWeight</th>\n",
       "      <th>Dispatched</th>\n",
       "      <th>Shipping_Class</th>\n",
       "      <th>Scheduled_Shipping</th>\n",
       "      <th>Warehouse_Region</th>\n",
       "      <th>Delivery_Review</th>\n",
       "      <th>Session_Ordered</th>\n",
       "      <th>WeekdayOrder</th>\n",
       "      <th>Delivery_Status</th>\n",
       "    </tr>\n",
       "  </thead>\n",
       "  <tbody>\n",
       "    <tr>\n",
       "      <th>0</th>\n",
       "      <td>2477882</td>\n",
       "      <td>12386</td>\n",
       "      <td>Consumer</td>\n",
       "      <td>AR</td>\n",
       "      <td>19120</td>\n",
       "      <td>150.0</td>\n",
       "      <td>Central</td>\n",
       "      <td>4383.39</td>\n",
       "      <td>Cat-2</td>\n",
       "      <td>UPI</td>\n",
       "      <td>4</td>\n",
       "      <td>Apparel</td>\n",
       "      <td>0.08</td>\n",
       "      <td>0.10</td>\n",
       "      <td>3</td>\n",
       "      <td>352.78</td>\n",
       "      <td>Fragile</td>\n",
       "      <td>17</td>\n",
       "      <td>191.0</td>\n",
       "      <td>1592.0</td>\n",
       "      <td>0</td>\n",
       "      <td>Standard</td>\n",
       "      <td>4</td>\n",
       "      <td>NORTH</td>\n",
       "      <td>5.0</td>\n",
       "      <td>2.0</td>\n",
       "      <td>0</td>\n",
       "      <td>0</td>\n",
       "    </tr>\n",
       "    <tr>\n",
       "      <th>1</th>\n",
       "      <td>2477895</td>\n",
       "      <td>2630</td>\n",
       "      <td>Consumer</td>\n",
       "      <td>BR</td>\n",
       "      <td>2907</td>\n",
       "      <td>165.0</td>\n",
       "      <td>East</td>\n",
       "      <td>4295.72</td>\n",
       "      <td>Cat-2</td>\n",
       "      <td>UPI</td>\n",
       "      <td>4</td>\n",
       "      <td>Apparel</td>\n",
       "      <td>0.47</td>\n",
       "      <td>0.16</td>\n",
       "      <td>3</td>\n",
       "      <td>2018.10</td>\n",
       "      <td>Fragile</td>\n",
       "      <td>17</td>\n",
       "      <td>79.0</td>\n",
       "      <td>1420.0</td>\n",
       "      <td>0</td>\n",
       "      <td>Standard</td>\n",
       "      <td>6</td>\n",
       "      <td>NORTH</td>\n",
       "      <td>2.0</td>\n",
       "      <td>2.0</td>\n",
       "      <td>1</td>\n",
       "      <td>0</td>\n",
       "    </tr>\n",
       "    <tr>\n",
       "      <th>2</th>\n",
       "      <td>2473260</td>\n",
       "      <td>1752</td>\n",
       "      <td>Corporate</td>\n",
       "      <td>RJ</td>\n",
       "      <td>90214</td>\n",
       "      <td>171.0</td>\n",
       "      <td>South</td>\n",
       "      <td>3616.65</td>\n",
       "      <td>Cat-50</td>\n",
       "      <td>Cash</td>\n",
       "      <td>7</td>\n",
       "      <td>Fan Shop</td>\n",
       "      <td>0.26</td>\n",
       "      <td>0.07</td>\n",
       "      <td>4</td>\n",
       "      <td>939.63</td>\n",
       "      <td>Not Fragile</td>\n",
       "      <td>46</td>\n",
       "      <td>67.0</td>\n",
       "      <td>1231.0</td>\n",
       "      <td>0</td>\n",
       "      <td>Standard</td>\n",
       "      <td>6</td>\n",
       "      <td>SOUTH</td>\n",
       "      <td>4.0</td>\n",
       "      <td>2.0</td>\n",
       "      <td>0</td>\n",
       "      <td>1</td>\n",
       "    </tr>\n",
       "    <tr>\n",
       "      <th>3</th>\n",
       "      <td>2466916</td>\n",
       "      <td>9268</td>\n",
       "      <td>Consumer</td>\n",
       "      <td>UP</td>\n",
       "      <td>745</td>\n",
       "      <td>132.0</td>\n",
       "      <td>East</td>\n",
       "      <td>9175.86</td>\n",
       "      <td>Cat-12</td>\n",
       "      <td>Credit</td>\n",
       "      <td>4</td>\n",
       "      <td>Apparel</td>\n",
       "      <td>0.48</td>\n",
       "      <td>0.18</td>\n",
       "      <td>1</td>\n",
       "      <td>4401.74</td>\n",
       "      <td>Not Fragile</td>\n",
       "      <td>18</td>\n",
       "      <td>45.0</td>\n",
       "      <td>NaN</td>\n",
       "      <td>1</td>\n",
       "      <td>2A</td>\n",
       "      <td>4</td>\n",
       "      <td>NORTH</td>\n",
       "      <td>4.0</td>\n",
       "      <td>3.0</td>\n",
       "      <td>1</td>\n",
       "      <td>1</td>\n",
       "    </tr>\n",
       "    <tr>\n",
       "      <th>4</th>\n",
       "      <td>2351480</td>\n",
       "      <td>2888</td>\n",
       "      <td>Corporate</td>\n",
       "      <td>UP</td>\n",
       "      <td>92427</td>\n",
       "      <td>NaN</td>\n",
       "      <td>North</td>\n",
       "      <td>2779.29</td>\n",
       "      <td>Cat-3</td>\n",
       "      <td>UPI</td>\n",
       "      <td>5</td>\n",
       "      <td>Golf</td>\n",
       "      <td>0.13</td>\n",
       "      <td>0.16</td>\n",
       "      <td>4</td>\n",
       "      <td>361.70</td>\n",
       "      <td>Not Fragile</td>\n",
       "      <td>29</td>\n",
       "      <td>43.0</td>\n",
       "      <td>1018.0</td>\n",
       "      <td>1</td>\n",
       "      <td>Standard</td>\n",
       "      <td>5</td>\n",
       "      <td>CENTRAL</td>\n",
       "      <td>2.0</td>\n",
       "      <td>1.0</td>\n",
       "      <td>0</td>\n",
       "      <td>1</td>\n",
       "    </tr>\n",
       "  </tbody>\n",
       "</table>\n",
       "</div>"
      ],
      "text/plain": [
       "   OrderId  Customer_Id Customer_Category Cust_State  Zipcode  Sales  \\\n",
       "0  2477882        12386          Consumer         AR    19120  150.0   \n",
       "1  2477895         2630          Consumer         BR     2907  165.0   \n",
       "2  2473260         1752         Corporate         RJ    90214  171.0   \n",
       "3  2466916         9268          Consumer         UP      745  132.0   \n",
       "4  2351480         2888         Corporate         UP    92427    NaN   \n",
       "\n",
       "  Order_zone    Price CategoryName Transcation  Dept_Id Dept_Name  \\\n",
       "0    Central  4383.39        Cat-2         UPI        4   Apparel   \n",
       "1       East  4295.72        Cat-2         UPI        4   Apparel   \n",
       "2      South  3616.65       Cat-50        Cash        7  Fan Shop   \n",
       "3       East  9175.86       Cat-12      Credit        4   Apparel   \n",
       "4      North  2779.29        Cat-3         UPI        5      Golf   \n",
       "\n",
       "   Profit_Ratio  Discount  Quantity  Order_Profit  Product_type  \\\n",
       "0          0.08      0.10         3         352.78      Fragile   \n",
       "1          0.47      0.16         3        2018.10      Fragile   \n",
       "2          0.26      0.07         4         939.63  Not Fragile   \n",
       "3          0.48      0.18         1        4401.74  Not Fragile   \n",
       "4          0.13      0.16         4         361.70  Not Fragile   \n",
       "\n",
       "   Prod_Category_Id  ProductLength  ProductWeight  Dispatched Shipping_Class  \\\n",
       "0                17          191.0         1592.0           0       Standard   \n",
       "1                17           79.0         1420.0           0       Standard   \n",
       "2                46           67.0         1231.0           0       Standard   \n",
       "3                18           45.0            NaN           1             2A   \n",
       "4                29           43.0         1018.0           1       Standard   \n",
       "\n",
       "   Scheduled_Shipping Warehouse_Region  Delivery_Review  Session_Ordered  \\\n",
       "0                   4            NORTH              5.0              2.0   \n",
       "1                   6            NORTH              2.0              2.0   \n",
       "2                   6            SOUTH              4.0              2.0   \n",
       "3                   4            NORTH              4.0              3.0   \n",
       "4                   5          CENTRAL              2.0              1.0   \n",
       "\n",
       "   WeekdayOrder  Delivery_Status  \n",
       "0             0                0  \n",
       "1             1                0  \n",
       "2             0                1  \n",
       "3             1                1  \n",
       "4             0                1  "
      ]
     },
     "execution_count": 3,
     "metadata": {},
     "output_type": "execute_result"
    }
   ],
   "source": [
    "Train_set.head()"
   ]
  },
  {
   "cell_type": "code",
   "execution_count": 4,
   "metadata": {
    "scrolled": true
   },
   "outputs": [
    {
     "data": {
      "text/html": [
       "<div>\n",
       "<style scoped>\n",
       "    .dataframe tbody tr th:only-of-type {\n",
       "        vertical-align: middle;\n",
       "    }\n",
       "\n",
       "    .dataframe tbody tr th {\n",
       "        vertical-align: top;\n",
       "    }\n",
       "\n",
       "    .dataframe thead th {\n",
       "        text-align: right;\n",
       "    }\n",
       "</style>\n",
       "<table border=\"1\" class=\"dataframe\">\n",
       "  <thead>\n",
       "    <tr style=\"text-align: right;\">\n",
       "      <th></th>\n",
       "      <th>OrderId</th>\n",
       "      <th>Customer_Id</th>\n",
       "      <th>Customer_Category</th>\n",
       "      <th>Cust_State</th>\n",
       "      <th>Zipcode</th>\n",
       "      <th>Sales</th>\n",
       "      <th>Order_zone</th>\n",
       "      <th>Price</th>\n",
       "      <th>CategoryName</th>\n",
       "      <th>Transcation</th>\n",
       "      <th>Dept_Id</th>\n",
       "      <th>Dept_Name</th>\n",
       "      <th>Profit_Ratio</th>\n",
       "      <th>Discount</th>\n",
       "      <th>Quantity</th>\n",
       "      <th>Order_Profit</th>\n",
       "      <th>Product_type</th>\n",
       "      <th>Prod_Category_Id</th>\n",
       "      <th>ProductLength</th>\n",
       "      <th>ProductWeight</th>\n",
       "      <th>Dispatched</th>\n",
       "      <th>Shipping_Class</th>\n",
       "      <th>Scheduled_Shipping</th>\n",
       "      <th>Warehouse_Region</th>\n",
       "      <th>Delivery_Review</th>\n",
       "      <th>Session_Ordered</th>\n",
       "      <th>WeekdayOrder</th>\n",
       "    </tr>\n",
       "  </thead>\n",
       "  <tbody>\n",
       "    <tr>\n",
       "      <th>0</th>\n",
       "      <td>2372881</td>\n",
       "      <td>2989</td>\n",
       "      <td>others</td>\n",
       "      <td>HR</td>\n",
       "      <td>735</td>\n",
       "      <td>NaN</td>\n",
       "      <td>West</td>\n",
       "      <td>2833.08</td>\n",
       "      <td>Cat-3</td>\n",
       "      <td>UPI</td>\n",
       "      <td>5</td>\n",
       "      <td>Golf</td>\n",
       "      <td>-0.68</td>\n",
       "      <td>0.07</td>\n",
       "      <td>5</td>\n",
       "      <td>-1920.91</td>\n",
       "      <td>Fragile</td>\n",
       "      <td>29</td>\n",
       "      <td>25.0</td>\n",
       "      <td>1720.0</td>\n",
       "      <td>0</td>\n",
       "      <td>Standard</td>\n",
       "      <td>6</td>\n",
       "      <td>NORTH</td>\n",
       "      <td>5.0</td>\n",
       "      <td>2.0</td>\n",
       "      <td>1</td>\n",
       "    </tr>\n",
       "    <tr>\n",
       "      <th>1</th>\n",
       "      <td>2445349</td>\n",
       "      <td>5359</td>\n",
       "      <td>Consumer</td>\n",
       "      <td>MA</td>\n",
       "      <td>737</td>\n",
       "      <td>222.0</td>\n",
       "      <td>Central</td>\n",
       "      <td>14133.42</td>\n",
       "      <td>Cat-49</td>\n",
       "      <td>Debit</td>\n",
       "      <td>7</td>\n",
       "      <td>Fan Shop</td>\n",
       "      <td>0.08</td>\n",
       "      <td>0.06</td>\n",
       "      <td>1</td>\n",
       "      <td>1132.14</td>\n",
       "      <td>Fragile</td>\n",
       "      <td>48</td>\n",
       "      <td>29.0</td>\n",
       "      <td>964.0</td>\n",
       "      <td>1</td>\n",
       "      <td>Standard</td>\n",
       "      <td>4</td>\n",
       "      <td>CENTRAL</td>\n",
       "      <td>3.0</td>\n",
       "      <td>3.0</td>\n",
       "      <td>0</td>\n",
       "    </tr>\n",
       "    <tr>\n",
       "      <th>2</th>\n",
       "      <td>2441537</td>\n",
       "      <td>4111</td>\n",
       "      <td>Corporate</td>\n",
       "      <td>GJ</td>\n",
       "      <td>91350</td>\n",
       "      <td>149.0</td>\n",
       "      <td>East</td>\n",
       "      <td>3545.31</td>\n",
       "      <td>Cat-50</td>\n",
       "      <td>Credit</td>\n",
       "      <td>7</td>\n",
       "      <td>Fan Shop</td>\n",
       "      <td>0.34</td>\n",
       "      <td>0.06</td>\n",
       "      <td>3</td>\n",
       "      <td>1204.39</td>\n",
       "      <td>Fragile</td>\n",
       "      <td>46</td>\n",
       "      <td>121.0</td>\n",
       "      <td>2994.0</td>\n",
       "      <td>0</td>\n",
       "      <td>Standard</td>\n",
       "      <td>6</td>\n",
       "      <td>WEST</td>\n",
       "      <td>3.0</td>\n",
       "      <td>1.0</td>\n",
       "      <td>1</td>\n",
       "    </tr>\n",
       "    <tr>\n",
       "      <th>3</th>\n",
       "      <td>2461867</td>\n",
       "      <td>5377</td>\n",
       "      <td>Consumer</td>\n",
       "      <td>RJ</td>\n",
       "      <td>77860</td>\n",
       "      <td>162.0</td>\n",
       "      <td>North</td>\n",
       "      <td>9234.05</td>\n",
       "      <td>Cat-12</td>\n",
       "      <td>UPI</td>\n",
       "      <td>4</td>\n",
       "      <td>Apparel</td>\n",
       "      <td>0.39</td>\n",
       "      <td>0.03</td>\n",
       "      <td>1</td>\n",
       "      <td>3600.48</td>\n",
       "      <td>Not Fragile</td>\n",
       "      <td>18</td>\n",
       "      <td>156.0</td>\n",
       "      <td>1008.0</td>\n",
       "      <td>0</td>\n",
       "      <td>Standard</td>\n",
       "      <td>5</td>\n",
       "      <td>CENTRAL</td>\n",
       "      <td>3.0</td>\n",
       "      <td>3.0</td>\n",
       "      <td>1</td>\n",
       "    </tr>\n",
       "    <tr>\n",
       "      <th>4</th>\n",
       "      <td>2461659</td>\n",
       "      <td>10563</td>\n",
       "      <td>Consumer</td>\n",
       "      <td>WB</td>\n",
       "      <td>47922</td>\n",
       "      <td>115.0</td>\n",
       "      <td>North</td>\n",
       "      <td>9174.76</td>\n",
       "      <td>Cat-12</td>\n",
       "      <td>UPI</td>\n",
       "      <td>4</td>\n",
       "      <td>Apparel</td>\n",
       "      <td>0.50</td>\n",
       "      <td>0.06</td>\n",
       "      <td>1</td>\n",
       "      <td>4586.33</td>\n",
       "      <td>Fragile</td>\n",
       "      <td>18</td>\n",
       "      <td>114.0</td>\n",
       "      <td>1354.0</td>\n",
       "      <td>0</td>\n",
       "      <td>Standard</td>\n",
       "      <td>2</td>\n",
       "      <td>NE</td>\n",
       "      <td>3.0</td>\n",
       "      <td>2.0</td>\n",
       "      <td>1</td>\n",
       "    </tr>\n",
       "  </tbody>\n",
       "</table>\n",
       "</div>"
      ],
      "text/plain": [
       "   OrderId  Customer_Id Customer_Category Cust_State  Zipcode  Sales  \\\n",
       "0  2372881         2989            others         HR      735    NaN   \n",
       "1  2445349         5359          Consumer         MA      737  222.0   \n",
       "2  2441537         4111         Corporate         GJ    91350  149.0   \n",
       "3  2461867         5377          Consumer         RJ    77860  162.0   \n",
       "4  2461659        10563          Consumer         WB    47922  115.0   \n",
       "\n",
       "  Order_zone     Price CategoryName Transcation  Dept_Id Dept_Name  \\\n",
       "0       West   2833.08        Cat-3         UPI        5      Golf   \n",
       "1    Central  14133.42       Cat-49       Debit        7  Fan Shop   \n",
       "2       East   3545.31       Cat-50      Credit        7  Fan Shop   \n",
       "3      North   9234.05       Cat-12         UPI        4   Apparel   \n",
       "4      North   9174.76       Cat-12         UPI        4   Apparel   \n",
       "\n",
       "   Profit_Ratio  Discount  Quantity  Order_Profit  Product_type  \\\n",
       "0         -0.68      0.07         5       -1920.91      Fragile   \n",
       "1          0.08      0.06         1        1132.14      Fragile   \n",
       "2          0.34      0.06         3        1204.39      Fragile   \n",
       "3          0.39      0.03         1        3600.48  Not Fragile   \n",
       "4          0.50      0.06         1        4586.33      Fragile   \n",
       "\n",
       "   Prod_Category_Id  ProductLength  ProductWeight  Dispatched Shipping_Class  \\\n",
       "0                29           25.0         1720.0           0       Standard   \n",
       "1                48           29.0          964.0           1       Standard   \n",
       "2                46          121.0         2994.0           0       Standard   \n",
       "3                18          156.0         1008.0           0       Standard   \n",
       "4                18          114.0         1354.0           0       Standard   \n",
       "\n",
       "   Scheduled_Shipping Warehouse_Region  Delivery_Review  Session_Ordered  \\\n",
       "0                   6            NORTH              5.0              2.0   \n",
       "1                   4          CENTRAL              3.0              3.0   \n",
       "2                   6             WEST              3.0              1.0   \n",
       "3                   5          CENTRAL              3.0              3.0   \n",
       "4                   2               NE              3.0              2.0   \n",
       "\n",
       "   WeekdayOrder  \n",
       "0             1  \n",
       "1             0  \n",
       "2             1  \n",
       "3             1  \n",
       "4             1  "
      ]
     },
     "execution_count": 4,
     "metadata": {},
     "output_type": "execute_result"
    }
   ],
   "source": [
    "Test_set.head()"
   ]
  },
  {
   "cell_type": "code",
   "execution_count": 5,
   "metadata": {},
   "outputs": [
    {
     "data": {
      "text/plain": [
       "(126363, 28)"
      ]
     },
     "execution_count": 5,
     "metadata": {},
     "output_type": "execute_result"
    }
   ],
   "source": [
    "Train_set.shape"
   ]
  },
  {
   "cell_type": "markdown",
   "metadata": {},
   "source": [
    "### Check the Data Type"
   ]
  },
  {
   "cell_type": "code",
   "execution_count": 6,
   "metadata": {},
   "outputs": [
    {
     "name": "stdout",
     "output_type": "stream",
     "text": [
      "<class 'pandas.core.frame.DataFrame'>\n",
      "RangeIndex: 126363 entries, 0 to 126362\n",
      "Data columns (total 28 columns):\n",
      " #   Column              Non-Null Count   Dtype  \n",
      "---  ------              --------------   -----  \n",
      " 0   OrderId             126363 non-null  int64  \n",
      " 1   Customer_Id         126363 non-null  int64  \n",
      " 2   Customer_Category   126363 non-null  object \n",
      " 3   Cust_State          126363 non-null  object \n",
      " 4   Zipcode             126363 non-null  int64  \n",
      " 5   Sales               122749 non-null  float64\n",
      " 6   Order_zone          126363 non-null  object \n",
      " 7   Price               126363 non-null  float64\n",
      " 8   CategoryName        126363 non-null  object \n",
      " 9   Transcation         126363 non-null  object \n",
      " 10  Dept_Id             126363 non-null  int64  \n",
      " 11  Dept_Name           126363 non-null  object \n",
      " 12  Profit_Ratio        126363 non-null  float64\n",
      " 13  Discount            121313 non-null  float64\n",
      " 14  Quantity            126363 non-null  int64  \n",
      " 15  Order_Profit        126363 non-null  float64\n",
      " 16  Product_type        126363 non-null  object \n",
      " 17  Prod_Category_Id    126363 non-null  int64  \n",
      " 18  ProductLength       123417 non-null  float64\n",
      " 19  ProductWeight       125668 non-null  float64\n",
      " 20  Dispatched          126363 non-null  int64  \n",
      " 21  Shipping_Class      126363 non-null  object \n",
      " 22  Scheduled_Shipping  126363 non-null  int64  \n",
      " 23  Warehouse_Region    126363 non-null  object \n",
      " 24  Delivery_Review     117298 non-null  float64\n",
      " 25  Session_Ordered     121571 non-null  float64\n",
      " 26  WeekdayOrder        126363 non-null  int64  \n",
      " 27  Delivery_Status     126363 non-null  int64  \n",
      "dtypes: float64(9), int64(10), object(9)\n",
      "memory usage: 27.0+ MB\n"
     ]
    }
   ],
   "source": [
    "Train_set.info()"
   ]
  },
  {
   "cell_type": "markdown",
   "metadata": {},
   "source": [
    "### Checking Missing Values"
   ]
  },
  {
   "cell_type": "code",
   "execution_count": 7,
   "metadata": {},
   "outputs": [
    {
     "data": {
      "text/html": [
       "<div>\n",
       "<style scoped>\n",
       "    .dataframe tbody tr th:only-of-type {\n",
       "        vertical-align: middle;\n",
       "    }\n",
       "\n",
       "    .dataframe tbody tr th {\n",
       "        vertical-align: top;\n",
       "    }\n",
       "\n",
       "    .dataframe thead th {\n",
       "        text-align: right;\n",
       "    }\n",
       "</style>\n",
       "<table border=\"1\" class=\"dataframe\">\n",
       "  <thead>\n",
       "    <tr style=\"text-align: right;\">\n",
       "      <th></th>\n",
       "      <th>Total</th>\n",
       "      <th>Percentage</th>\n",
       "    </tr>\n",
       "  </thead>\n",
       "  <tbody>\n",
       "    <tr>\n",
       "      <th>Delivery_Review</th>\n",
       "      <td>9065</td>\n",
       "      <td>7.173777</td>\n",
       "    </tr>\n",
       "    <tr>\n",
       "      <th>Discount</th>\n",
       "      <td>5050</td>\n",
       "      <td>3.996423</td>\n",
       "    </tr>\n",
       "    <tr>\n",
       "      <th>Session_Ordered</th>\n",
       "      <td>4792</td>\n",
       "      <td>3.792249</td>\n",
       "    </tr>\n",
       "    <tr>\n",
       "      <th>Sales</th>\n",
       "      <td>3614</td>\n",
       "      <td>2.860014</td>\n",
       "    </tr>\n",
       "    <tr>\n",
       "      <th>ProductLength</th>\n",
       "      <td>2946</td>\n",
       "      <td>2.331379</td>\n",
       "    </tr>\n",
       "    <tr>\n",
       "      <th>ProductWeight</th>\n",
       "      <td>695</td>\n",
       "      <td>0.550003</td>\n",
       "    </tr>\n",
       "    <tr>\n",
       "      <th>OrderId</th>\n",
       "      <td>0</td>\n",
       "      <td>0.000000</td>\n",
       "    </tr>\n",
       "    <tr>\n",
       "      <th>Order_Profit</th>\n",
       "      <td>0</td>\n",
       "      <td>0.000000</td>\n",
       "    </tr>\n",
       "  </tbody>\n",
       "</table>\n",
       "</div>"
      ],
      "text/plain": [
       "                 Total  Percentage\n",
       "Delivery_Review   9065    7.173777\n",
       "Discount          5050    3.996423\n",
       "Session_Ordered   4792    3.792249\n",
       "Sales             3614    2.860014\n",
       "ProductLength     2946    2.331379\n",
       "ProductWeight      695    0.550003\n",
       "OrderId              0    0.000000\n",
       "Order_Profit         0    0.000000"
      ]
     },
     "execution_count": 7,
     "metadata": {},
     "output_type": "execute_result"
    }
   ],
   "source": [
    "Total = Train_set.isnull().sum()\n",
    "Percentage = (Train_set.isnull().sum()/Train_set.shape[0])*100\n",
    "\n",
    "Missing_values = pd.DataFrame({'Total' : Total, \"Percentage\": Percentage}).sort_values(by = 'Total', ascending=False)\n",
    "Missing_values.head(8)"
   ]
  },
  {
   "cell_type": "code",
   "execution_count": 8,
   "metadata": {},
   "outputs": [
    {
     "data": {
      "text/html": [
       "<div>\n",
       "<style scoped>\n",
       "    .dataframe tbody tr th:only-of-type {\n",
       "        vertical-align: middle;\n",
       "    }\n",
       "\n",
       "    .dataframe tbody tr th {\n",
       "        vertical-align: top;\n",
       "    }\n",
       "\n",
       "    .dataframe thead th {\n",
       "        text-align: right;\n",
       "    }\n",
       "</style>\n",
       "<table border=\"1\" class=\"dataframe\">\n",
       "  <thead>\n",
       "    <tr style=\"text-align: right;\">\n",
       "      <th></th>\n",
       "      <th>Total</th>\n",
       "      <th>Percentage</th>\n",
       "    </tr>\n",
       "  </thead>\n",
       "  <tbody>\n",
       "    <tr>\n",
       "      <th>Delivery_Review</th>\n",
       "      <td>3896</td>\n",
       "      <td>7.194032</td>\n",
       "    </tr>\n",
       "    <tr>\n",
       "      <th>Discount</th>\n",
       "      <td>2174</td>\n",
       "      <td>4.014329</td>\n",
       "    </tr>\n",
       "    <tr>\n",
       "      <th>Session_Ordered</th>\n",
       "      <td>2031</td>\n",
       "      <td>3.750277</td>\n",
       "    </tr>\n",
       "    <tr>\n",
       "      <th>Sales</th>\n",
       "      <td>1460</td>\n",
       "      <td>2.695916</td>\n",
       "    </tr>\n",
       "    <tr>\n",
       "      <th>ProductLength</th>\n",
       "      <td>1304</td>\n",
       "      <td>2.407859</td>\n",
       "    </tr>\n",
       "    <tr>\n",
       "      <th>ProductWeight</th>\n",
       "      <td>307</td>\n",
       "      <td>0.566881</td>\n",
       "    </tr>\n",
       "    <tr>\n",
       "      <th>Quantity</th>\n",
       "      <td>0</td>\n",
       "      <td>0.000000</td>\n",
       "    </tr>\n",
       "    <tr>\n",
       "      <th>Warehouse_Region</th>\n",
       "      <td>0</td>\n",
       "      <td>0.000000</td>\n",
       "    </tr>\n",
       "  </tbody>\n",
       "</table>\n",
       "</div>"
      ],
      "text/plain": [
       "                  Total  Percentage\n",
       "Delivery_Review    3896    7.194032\n",
       "Discount           2174    4.014329\n",
       "Session_Ordered    2031    3.750277\n",
       "Sales              1460    2.695916\n",
       "ProductLength      1304    2.407859\n",
       "ProductWeight       307    0.566881\n",
       "Quantity              0    0.000000\n",
       "Warehouse_Region      0    0.000000"
      ]
     },
     "execution_count": 8,
     "metadata": {},
     "output_type": "execute_result"
    }
   ],
   "source": [
    "Total = Test_set.isnull().sum()\n",
    "Percentage = (Test_set.isnull().sum()/Test_set.shape[0])*100\n",
    "\n",
    "Missing_values = pd.DataFrame({'Total' : Total, \"Percentage\": Percentage}).sort_values(by = 'Total', ascending=False)\n",
    "Missing_values.head(8)"
   ]
  },
  {
   "cell_type": "markdown",
   "metadata": {},
   "source": [
    "### CountPlot of Target Variable"
   ]
  },
  {
   "cell_type": "code",
   "execution_count": 40,
   "metadata": {},
   "outputs": [
    {
     "data": {
      "image/png": "[encoded data removed]",
      "text/plain": [
       "<Figure size 432x288 with 1 Axes>"
      ]
     },
     "metadata": {
      "needs_background": "light"
     },
     "output_type": "display_data"
    }
   ],
   "source": [
    "Train_set[\"Delivery_Status\"].value_counts().plot(kind='bar')\n",
    "plt.show()"
   ]
  },
  {
   "cell_type": "code",
   "execution_count": null,
   "metadata": {},
   "outputs": [],
   "source": []
  },
  {
   "cell_type": "markdown",
   "metadata": {},
   "source": [
    "### Missing Values Treatment"
   ]
  },
  {
   "cell_type": "code",
   "execution_count": 9,
   "metadata": {},
   "outputs": [
    {
     "name": "stdout",
     "output_type": "stream",
     "text": [
      "4.0    42860\n",
      "3.0    41201\n",
      "2.0    19732\n",
      "5.0    11640\n",
      "1.0     1865\n",
      "Name: Delivery_Review, dtype: int64\n",
      "0    4.0\n",
      "dtype: float64\n"
     ]
    }
   ],
   "source": [
    "print(Train_set[\"Delivery_Review\"].value_counts())\n",
    "print(Train_set[\"Delivery_Review\"].mode())"
   ]
  },
  {
   "cell_type": "code",
   "execution_count": 10,
   "metadata": {},
   "outputs": [
    {
     "name": "stdout",
     "output_type": "stream",
     "text": [
      "2.0    40873\n",
      "3.0    40440\n",
      "1.0    40258\n",
      "Name: Session_Ordered, dtype: int64\n",
      "0    2.0\n",
      "dtype: float64\n"
     ]
    }
   ],
   "source": [
    "print(Train_set[\"Session_Ordered\"].value_counts())\n",
    "print(Train_set[\"Session_Ordered\"].mode())"
   ]
  },
  {
   "cell_type": "code",
   "execution_count": 11,
   "metadata": {},
   "outputs": [],
   "source": [
    "Train_set[\"Delivery_Review\"] = Train_set[\"Delivery_Review\"].fillna(Train_set[\"Delivery_Review\"].mode()[0])\n",
    "Test_set[\"Delivery_Review\"] = Test_set[\"Delivery_Review\"].fillna(Test_set[\"Delivery_Review\"].mode()[0])\n",
    "\n",
    "Train_set[\"Session_Ordered\"] = Train_set[\"Session_Ordered\"].fillna(Train_set[\"Session_Ordered\"].mode()[0])\n",
    "Test_set[\"Session_Ordered\"] = Test_set[\"Session_Ordered\"].fillna(Test_set[\"Session_Ordered\"].mode()[0])"
   ]
  },
  {
   "cell_type": "code",
   "execution_count": 12,
   "metadata": {},
   "outputs": [
    {
     "data": {
      "image/png": "[encoded data removed]",
      "text/plain": [
       "<Figure size 432x288 with 1 Axes>"
      ]
     },
     "metadata": {
      "needs_background": "light"
     },
     "output_type": "display_data"
    }
   ],
   "source": [
    "sns.boxplot(Train_set[\"Discount\"])\n",
    "plt.show()"
   ]
  },
  {
   "cell_type": "code",
   "execution_count": 13,
   "metadata": {},
   "outputs": [],
   "source": [
    "Train_set[\"Discount\"] = Train_set[\"Discount\"].fillna(Train_set[\"Discount\"].mean())\n",
    "Test_set[\"Discount\"] = Test_set[\"Discount\"].fillna(Test_set[\"Discount\"].mean())"
   ]
  },
  {
   "cell_type": "code",
   "execution_count": 14,
   "metadata": {},
   "outputs": [
    {
     "data": {
      "image/png": "[encoded data removed]",
      "text/plain": [
       "<Figure size 432x288 with 1 Axes>"
      ]
     },
     "metadata": {
      "needs_background": "light"
     },
     "output_type": "display_data"
    }
   ],
   "source": [
    "sns.boxplot(Train_set[\"Sales\"])\n",
    "plt.show()"
   ]
  },
  {
   "cell_type": "code",
   "execution_count": 15,
   "metadata": {},
   "outputs": [],
   "source": [
    "Train_set[\"Sales\"] = Train_set[\"Sales\"].fillna(Train_set[\"Sales\"].median())\n",
    "Test_set[\"Sales\"] = Test_set[\"Sales\"].fillna(Test_set[\"Sales\"].median())"
   ]
  },
  {
   "cell_type": "code",
   "execution_count": 16,
   "metadata": {},
   "outputs": [
    {
     "data": {
      "image/png": "[encoded data removed]",
      "text/plain": [
       "<Figure size 432x288 with 1 Axes>"
      ]
     },
     "metadata": {
      "needs_background": "light"
     },
     "output_type": "display_data"
    }
   ],
   "source": [
    "sns.boxplot(Train_set[\"ProductLength\"])\n",
    "plt.show()"
   ]
  },
  {
   "cell_type": "code",
   "execution_count": 17,
   "metadata": {},
   "outputs": [],
   "source": [
    "Train_set[\"ProductLength\"] = Train_set[\"ProductLength\"].fillna(Train_set[\"ProductLength\"].mean())\n",
    "Test_set[\"ProductLength\"] = Test_set[\"ProductLength\"].fillna(Test_set[\"ProductLength\"].mean())"
   ]
  },
  {
   "cell_type": "code",
   "execution_count": 18,
   "metadata": {},
   "outputs": [
    {
     "data": {
      "image/png": "[encoded data removed]",
      "text/plain": [
       "<Figure size 432x288 with 1 Axes>"
      ]
     },
     "metadata": {
      "needs_background": "light"
     },
     "output_type": "display_data"
    }
   ],
   "source": [
    "sns.boxplot(Train_set[\"ProductWeight\"])\n",
    "plt.show()"
   ]
  },
  {
   "cell_type": "code",
   "execution_count": 19,
   "metadata": {},
   "outputs": [],
   "source": [
    "Train_set[\"ProductWeight\"] = Train_set[\"ProductWeight\"].fillna(Train_set[\"ProductWeight\"].median())\n",
    "Test_set[\"ProductWeight\"] = Test_set[\"ProductWeight\"].fillna(Test_set[\"ProductWeight\"].median())"
   ]
  },
  {
   "cell_type": "code",
   "execution_count": 20,
   "metadata": {},
   "outputs": [
    {
     "data": {
      "text/html": [
       "<div>\n",
       "<style scoped>\n",
       "    .dataframe tbody tr th:only-of-type {\n",
       "        vertical-align: middle;\n",
       "    }\n",
       "\n",
       "    .dataframe tbody tr th {\n",
       "        vertical-align: top;\n",
       "    }\n",
       "\n",
       "    .dataframe thead th {\n",
       "        text-align: right;\n",
       "    }\n",
       "</style>\n",
       "<table border=\"1\" class=\"dataframe\">\n",
       "  <thead>\n",
       "    <tr style=\"text-align: right;\">\n",
       "      <th></th>\n",
       "      <th>Total</th>\n",
       "      <th>Percentage</th>\n",
       "    </tr>\n",
       "  </thead>\n",
       "  <tbody>\n",
       "    <tr>\n",
       "      <th>OrderId</th>\n",
       "      <td>0</td>\n",
       "      <td>0.0</td>\n",
       "    </tr>\n",
       "    <tr>\n",
       "      <th>Customer_Id</th>\n",
       "      <td>0</td>\n",
       "      <td>0.0</td>\n",
       "    </tr>\n",
       "    <tr>\n",
       "      <th>WeekdayOrder</th>\n",
       "      <td>0</td>\n",
       "      <td>0.0</td>\n",
       "    </tr>\n",
       "    <tr>\n",
       "      <th>Session_Ordered</th>\n",
       "      <td>0</td>\n",
       "      <td>0.0</td>\n",
       "    </tr>\n",
       "    <tr>\n",
       "      <th>Delivery_Review</th>\n",
       "      <td>0</td>\n",
       "      <td>0.0</td>\n",
       "    </tr>\n",
       "    <tr>\n",
       "      <th>Warehouse_Region</th>\n",
       "      <td>0</td>\n",
       "      <td>0.0</td>\n",
       "    </tr>\n",
       "    <tr>\n",
       "      <th>Scheduled_Shipping</th>\n",
       "      <td>0</td>\n",
       "      <td>0.0</td>\n",
       "    </tr>\n",
       "    <tr>\n",
       "      <th>Shipping_Class</th>\n",
       "      <td>0</td>\n",
       "      <td>0.0</td>\n",
       "    </tr>\n",
       "  </tbody>\n",
       "</table>\n",
       "</div>"
      ],
      "text/plain": [
       "                    Total  Percentage\n",
       "OrderId                 0         0.0\n",
       "Customer_Id             0         0.0\n",
       "WeekdayOrder            0         0.0\n",
       "Session_Ordered         0         0.0\n",
       "Delivery_Review         0         0.0\n",
       "Warehouse_Region        0         0.0\n",
       "Scheduled_Shipping      0         0.0\n",
       "Shipping_Class          0         0.0"
      ]
     },
     "execution_count": 20,
     "metadata": {},
     "output_type": "execute_result"
    }
   ],
   "source": [
    "Total = Train_set.isnull().sum()\n",
    "Percentage = (Train_set.isnull().sum()/Train_set.shape[0])*100\n",
    "\n",
    "Missing_values = pd.DataFrame({'Total' : Total, \"Percentage\": Percentage}).sort_values(by = 'Total', ascending=False)\n",
    "Missing_values.head(8)"
   ]
  },
  {
   "cell_type": "markdown",
   "metadata": {},
   "source": [
    "### Heat Map"
   ]
  },
  {
   "cell_type": "code",
   "execution_count": 21,
   "metadata": {},
   "outputs": [
    {
     "data": {
      "image/png": "[encoded data removed]",
      "text/plain": [
       "<Figure size 1440x720 with 2 Axes>"
      ]
     },
     "metadata": {
      "needs_background": "light"
     },
     "output_type": "display_data"
    }
   ],
   "source": [
    "plt.figure(figsize=(20,10))\n",
    "sns.heatmap(Train_set.corr(), annot = True)\n",
    "plt.show()"
   ]
  },
  {
   "cell_type": "markdown",
   "metadata": {},
   "source": [
    "#### No Missing Values in the Dataset"
   ]
  },
  {
   "cell_type": "markdown",
   "metadata": {},
   "source": [
    "### Dropping unnecessary Columns"
   ]
  },
  {
   "cell_type": "code",
   "execution_count": 22,
   "metadata": {},
   "outputs": [
    {
     "data": {
      "text/plain": [
       "126363"
      ]
     },
     "execution_count": 22,
     "metadata": {},
     "output_type": "execute_result"
    }
   ],
   "source": [
    "Train_set[\"OrderId\"].nunique()"
   ]
  },
  {
   "cell_type": "code",
   "execution_count": 23,
   "metadata": {},
   "outputs": [],
   "source": [
    "Train_set = Train_set.drop([\"OrderId\"], axis = 1)\n",
    "Test_set_Ids = Test_set['OrderId']\n",
    "Test_set.drop('OrderId',axis = 1,inplace = True)"
   ]
  },
  {
   "cell_type": "code",
   "execution_count": 24,
   "metadata": {},
   "outputs": [
    {
     "data": {
      "text/html": [
       "<div>\n",
       "<style scoped>\n",
       "    .dataframe tbody tr th:only-of-type {\n",
       "        vertical-align: middle;\n",
       "    }\n",
       "\n",
       "    .dataframe tbody tr th {\n",
       "        vertical-align: top;\n",
       "    }\n",
       "\n",
       "    .dataframe thead th {\n",
       "        text-align: right;\n",
       "    }\n",
       "</style>\n",
       "<table border=\"1\" class=\"dataframe\">\n",
       "  <thead>\n",
       "    <tr style=\"text-align: right;\">\n",
       "      <th></th>\n",
       "      <th>Customer_Id</th>\n",
       "      <th>Customer_Category</th>\n",
       "      <th>Cust_State</th>\n",
       "      <th>Zipcode</th>\n",
       "      <th>Sales</th>\n",
       "      <th>Order_zone</th>\n",
       "      <th>Price</th>\n",
       "      <th>CategoryName</th>\n",
       "      <th>Transcation</th>\n",
       "      <th>Dept_Id</th>\n",
       "      <th>Dept_Name</th>\n",
       "      <th>Profit_Ratio</th>\n",
       "      <th>Discount</th>\n",
       "      <th>Quantity</th>\n",
       "      <th>Order_Profit</th>\n",
       "      <th>Product_type</th>\n",
       "      <th>Prod_Category_Id</th>\n",
       "      <th>ProductLength</th>\n",
       "      <th>ProductWeight</th>\n",
       "      <th>Dispatched</th>\n",
       "      <th>Shipping_Class</th>\n",
       "      <th>Scheduled_Shipping</th>\n",
       "      <th>Warehouse_Region</th>\n",
       "      <th>Delivery_Review</th>\n",
       "      <th>Session_Ordered</th>\n",
       "      <th>WeekdayOrder</th>\n",
       "      <th>Delivery_Status</th>\n",
       "    </tr>\n",
       "  </thead>\n",
       "  <tbody>\n",
       "    <tr>\n",
       "      <th>0</th>\n",
       "      <td>12386</td>\n",
       "      <td>Consumer</td>\n",
       "      <td>AR</td>\n",
       "      <td>19120</td>\n",
       "      <td>150.0</td>\n",
       "      <td>Central</td>\n",
       "      <td>4383.39</td>\n",
       "      <td>Cat-2</td>\n",
       "      <td>UPI</td>\n",
       "      <td>4</td>\n",
       "      <td>Apparel</td>\n",
       "      <td>0.08</td>\n",
       "      <td>0.10</td>\n",
       "      <td>3</td>\n",
       "      <td>352.78</td>\n",
       "      <td>Fragile</td>\n",
       "      <td>17</td>\n",
       "      <td>191.0</td>\n",
       "      <td>1592.0</td>\n",
       "      <td>0</td>\n",
       "      <td>Standard</td>\n",
       "      <td>4</td>\n",
       "      <td>NORTH</td>\n",
       "      <td>5.0</td>\n",
       "      <td>2.0</td>\n",
       "      <td>0</td>\n",
       "      <td>0</td>\n",
       "    </tr>\n",
       "    <tr>\n",
       "      <th>1</th>\n",
       "      <td>2630</td>\n",
       "      <td>Consumer</td>\n",
       "      <td>BR</td>\n",
       "      <td>2907</td>\n",
       "      <td>165.0</td>\n",
       "      <td>East</td>\n",
       "      <td>4295.72</td>\n",
       "      <td>Cat-2</td>\n",
       "      <td>UPI</td>\n",
       "      <td>4</td>\n",
       "      <td>Apparel</td>\n",
       "      <td>0.47</td>\n",
       "      <td>0.16</td>\n",
       "      <td>3</td>\n",
       "      <td>2018.10</td>\n",
       "      <td>Fragile</td>\n",
       "      <td>17</td>\n",
       "      <td>79.0</td>\n",
       "      <td>1420.0</td>\n",
       "      <td>0</td>\n",
       "      <td>Standard</td>\n",
       "      <td>6</td>\n",
       "      <td>NORTH</td>\n",
       "      <td>2.0</td>\n",
       "      <td>2.0</td>\n",
       "      <td>1</td>\n",
       "      <td>0</td>\n",
       "    </tr>\n",
       "  </tbody>\n",
       "</table>\n",
       "</div>"
      ],
      "text/plain": [
       "   Customer_Id Customer_Category Cust_State  Zipcode  Sales Order_zone  \\\n",
       "0        12386          Consumer         AR    19120  150.0    Central   \n",
       "1         2630          Consumer         BR     2907  165.0       East   \n",
       "\n",
       "     Price CategoryName Transcation  Dept_Id Dept_Name  Profit_Ratio  \\\n",
       "0  4383.39        Cat-2         UPI        4   Apparel          0.08   \n",
       "1  4295.72        Cat-2         UPI        4   Apparel          0.47   \n",
       "\n",
       "   Discount  Quantity  Order_Profit  Product_type  Prod_Category_Id  \\\n",
       "0      0.10         3         352.78      Fragile                17   \n",
       "1      0.16         3        2018.10      Fragile                17   \n",
       "\n",
       "   ProductLength  ProductWeight  Dispatched Shipping_Class  \\\n",
       "0          191.0         1592.0           0       Standard   \n",
       "1           79.0         1420.0           0       Standard   \n",
       "\n",
       "   Scheduled_Shipping Warehouse_Region  Delivery_Review  Session_Ordered  \\\n",
       "0                   4            NORTH              5.0              2.0   \n",
       "1                   6            NORTH              2.0              2.0   \n",
       "\n",
       "   WeekdayOrder  Delivery_Status  \n",
       "0             0                0  \n",
       "1             1                0  "
      ]
     },
     "execution_count": 24,
     "metadata": {},
     "output_type": "execute_result"
    }
   ],
   "source": [
    "Train_set.head(2)"
   ]
  },
  {
   "cell_type": "markdown",
   "metadata": {},
   "source": [
    "### Checking Outliers"
   ]
  },
  {
   "cell_type": "code",
   "execution_count": 25,
   "metadata": {},
   "outputs": [
    {
     "data": {
      "text/html": [
       "<div>\n",
       "<style scoped>\n",
       "    .dataframe tbody tr th:only-of-type {\n",
       "        vertical-align: middle;\n",
       "    }\n",
       "\n",
       "    .dataframe tbody tr th {\n",
       "        vertical-align: top;\n",
       "    }\n",
       "\n",
       "    .dataframe thead th {\n",
       "        text-align: right;\n",
       "    }\n",
       "</style>\n",
       "<table border=\"1\" class=\"dataframe\">\n",
       "  <thead>\n",
       "    <tr style=\"text-align: right;\">\n",
       "      <th></th>\n",
       "      <th>Customer_Id</th>\n",
       "      <th>Zipcode</th>\n",
       "      <th>Sales</th>\n",
       "      <th>Price</th>\n",
       "      <th>Dept_Id</th>\n",
       "      <th>Profit_Ratio</th>\n",
       "      <th>Discount</th>\n",
       "      <th>Quantity</th>\n",
       "      <th>Order_Profit</th>\n",
       "      <th>Prod_Category_Id</th>\n",
       "      <th>ProductLength</th>\n",
       "      <th>ProductWeight</th>\n",
       "      <th>Dispatched</th>\n",
       "      <th>Scheduled_Shipping</th>\n",
       "      <th>Delivery_Review</th>\n",
       "      <th>Session_Ordered</th>\n",
       "      <th>WeekdayOrder</th>\n",
       "    </tr>\n",
       "  </thead>\n",
       "  <tbody>\n",
       "    <tr>\n",
       "      <th>0</th>\n",
       "      <td>12386</td>\n",
       "      <td>19120</td>\n",
       "      <td>150.0</td>\n",
       "      <td>4383.39</td>\n",
       "      <td>4</td>\n",
       "      <td>0.08</td>\n",
       "      <td>0.10</td>\n",
       "      <td>3</td>\n",
       "      <td>352.78</td>\n",
       "      <td>17</td>\n",
       "      <td>191.0</td>\n",
       "      <td>1592.0</td>\n",
       "      <td>0</td>\n",
       "      <td>4</td>\n",
       "      <td>5.0</td>\n",
       "      <td>2.0</td>\n",
       "      <td>0</td>\n",
       "    </tr>\n",
       "    <tr>\n",
       "      <th>1</th>\n",
       "      <td>2630</td>\n",
       "      <td>2907</td>\n",
       "      <td>165.0</td>\n",
       "      <td>4295.72</td>\n",
       "      <td>4</td>\n",
       "      <td>0.47</td>\n",
       "      <td>0.16</td>\n",
       "      <td>3</td>\n",
       "      <td>2018.10</td>\n",
       "      <td>17</td>\n",
       "      <td>79.0</td>\n",
       "      <td>1420.0</td>\n",
       "      <td>0</td>\n",
       "      <td>6</td>\n",
       "      <td>2.0</td>\n",
       "      <td>2.0</td>\n",
       "      <td>1</td>\n",
       "    </tr>\n",
       "  </tbody>\n",
       "</table>\n",
       "</div>"
      ],
      "text/plain": [
       "   Customer_Id  Zipcode  Sales    Price  Dept_Id  Profit_Ratio  Discount  \\\n",
       "0        12386    19120  150.0  4383.39        4          0.08      0.10   \n",
       "1         2630     2907  165.0  4295.72        4          0.47      0.16   \n",
       "\n",
       "   Quantity  Order_Profit   Prod_Category_Id  ProductLength  ProductWeight  \\\n",
       "0         3         352.78                17          191.0         1592.0   \n",
       "1         3        2018.10                17           79.0         1420.0   \n",
       "\n",
       "   Dispatched  Scheduled_Shipping  Delivery_Review  Session_Ordered  \\\n",
       "0           0                   4              5.0              2.0   \n",
       "1           0                   6              2.0              2.0   \n",
       "\n",
       "   WeekdayOrder  \n",
       "0             0  \n",
       "1             1  "
      ]
     },
     "execution_count": 25,
     "metadata": {},
     "output_type": "execute_result"
    }
   ],
   "source": [
    "Num_var = Train_set.select_dtypes(include= np.number)\n",
    "Num_var.drop(['Delivery_Status'], axis=1, inplace=True)\n",
    "Num_var.head(2)"
   ]
  },
  {
   "cell_type": "code",
   "execution_count": 26,
   "metadata": {},
   "outputs": [
    {
     "name": "stdout",
     "output_type": "stream",
     "text": [
      "Customer_Id\n"
     ]
    },
    {
     "data": {
      "image/png": "[encoded data removed]",
      "text/plain": [
       "<Figure size 432x288 with 1 Axes>"
      ]
     },
     "metadata": {
      "needs_background": "light"
     },
     "output_type": "display_data"
    },
    {
     "name": "stdout",
     "output_type": "stream",
     "text": [
      "Zipcode\n"
     ]
    },
    {
     "data": {
      "image/png": "[encoded data removed]",
      "text/plain": [
       "<Figure size 432x288 with 1 Axes>"
      ]
     },
     "metadata": {
      "needs_background": "light"
     },
     "output_type": "display_data"
    },
    {
     "name": "stdout",
     "output_type": "stream",
     "text": [
      "Sales\n"
     ]
    },
    {
     "data": {
      "image/png": "[encoded data removed]",
      "text/plain": [
       "<Figure size 432x288 with 1 Axes>"
      ]
     },
     "metadata": {
      "needs_background": "light"
     },
     "output_type": "display_data"
    },
    {
     "name": "stdout",
     "output_type": "stream",
     "text": [
      "Price\n"
     ]
    },
    {
     "data": {
      "image/png": "[encoded data removed]",
      "text/plain": [
       "<Figure size 432x288 with 1 Axes>"
      ]
     },
     "metadata": {
      "needs_background": "light"
     },
     "output_type": "display_data"
    },
    {
     "name": "stdout",
     "output_type": "stream",
     "text": [
      "Dept_Id\n"
     ]
    },
    {
     "data": {
      "image/png": "[encoded data removed]",
      "text/plain": [
       "<Figure size 432x288 with 1 Axes>"
      ]
     },
     "metadata": {
      "needs_background": "light"
     },
     "output_type": "display_data"
    },
    {
     "name": "stdout",
     "output_type": "stream",
     "text": [
      "Profit_Ratio\n"
     ]
    },
    {
     "data": {
      "image/png": "[encoded data removed]",
      "text/plain": [
       "<Figure size 432x288 with 1 Axes>"
      ]
     },
     "metadata": {
      "needs_background": "light"
     },
     "output_type": "display_data"
    },
    {
     "name": "stdout",
     "output_type": "stream",
     "text": [
      "Discount\n"
     ]
    },
    {
     "data": {
      "image/png": "[encoded data removed]",
      "text/plain": [
       "<Figure size 432x288 with 1 Axes>"
      ]
     },
     "metadata": {
      "needs_background": "light"
     },
     "output_type": "display_data"
    },
    {
     "name": "stdout",
     "output_type": "stream",
     "text": [
      "Quantity\n"
     ]
    },
    {
     "data": {
      "image/png": "[encoded data removed]",
      "text/plain": [
       "<Figure size 432x288 with 1 Axes>"
      ]
     },
     "metadata": {
      "needs_background": "light"
     },
     "output_type": "display_data"
    },
    {
     "name": "stdout",
     "output_type": "stream",
     "text": [
      "Order_Profit \n"
     ]
    },
    {
     "data": {
      "image/png": "[encoded data removed]",
      "text/plain": [
       "<Figure size 432x288 with 1 Axes>"
      ]
     },
     "metadata": {
      "needs_background": "light"
     },
     "output_type": "display_data"
    },
    {
     "name": "stdout",
     "output_type": "stream",
     "text": [
      "Prod_Category_Id\n"
     ]
    },
    {
     "data": {
      "image/png": "[encoded data removed]",
      "text/plain": [
       "<Figure size 432x288 with 1 Axes>"
      ]
     },
     "metadata": {
      "needs_background": "light"
     },
     "output_type": "display_data"
    },
    {
     "name": "stdout",
     "output_type": "stream",
     "text": [
      "ProductLength\n"
     ]
    },
    {
     "data": {
      "image/png": "[encoded data removed]",
      "text/plain": [
       "<Figure size 432x288 with 1 Axes>"
      ]
     },
     "metadata": {
      "needs_background": "light"
     },
     "output_type": "display_data"
    },
    {
     "name": "stdout",
     "output_type": "stream",
     "text": [
      "ProductWeight\n"
     ]
    },
    {
     "data": {
      "image/png": "[encoded data removed]",
      "text/plain": [
       "<Figure size 432x288 with 1 Axes>"
      ]
     },
     "metadata": {
      "needs_background": "light"
     },
     "output_type": "display_data"
    },
    {
     "name": "stdout",
     "output_type": "stream",
     "text": [
      "Dispatched\n"
     ]
    },
    {
     "data": {
      "image/png": "[encoded data removed]",
      "text/plain": [
       "<Figure size 432x288 with 1 Axes>"
      ]
     },
     "metadata": {
      "needs_background": "light"
     },
     "output_type": "display_data"
    },
    {
     "name": "stdout",
     "output_type": "stream",
     "text": [
      "Scheduled_Shipping\n"
     ]
    },
    {
     "data": {
      "image/png": "[encoded data removed]",
      "text/plain": [
       "<Figure size 432x288 with 1 Axes>"
      ]
     },
     "metadata": {
      "needs_background": "light"
     },
     "output_type": "display_data"
    },
    {
     "name": "stdout",
     "output_type": "stream",
     "text": [
      "Delivery_Review\n"
     ]
    },
    {
     "data": {
      "image/png": "[encoded data removed]",
      "text/plain": [
       "<Figure size 432x288 with 1 Axes>"
      ]
     },
     "metadata": {
      "needs_background": "light"
     },
     "output_type": "display_data"
    },
    {
     "name": "stdout",
     "output_type": "stream",
     "text": [
      "Session_Ordered\n"
     ]
    },
    {
     "data": {
      "image/png": "[encoded data removed]",
      "text/plain": [
       "<Figure size 432x288 with 1 Axes>"
      ]
     },
     "metadata": {
      "needs_background": "light"
     },
     "output_type": "display_data"
    },
    {
     "name": "stdout",
     "output_type": "stream",
     "text": [
      "WeekdayOrder\n"
     ]
    },
    {
     "data": {
      "image/png": "[encoded data removed]",
      "text/plain": [
       "<Figure size 432x288 with 1 Axes>"
      ]
     },
     "metadata": {
      "needs_background": "light"
     },
     "output_type": "display_data"
    }
   ],
   "source": [
    "for i in Num_var:\n",
    "    print(i)\n",
    "    sns.boxplot(Num_var[i])\n",
    "    plt.show()"
   ]
  },
  {
   "cell_type": "markdown",
   "metadata": {},
   "source": [
    "### Scaling the Data"
   ]
  },
  {
   "cell_type": "markdown",
   "metadata": {},
   "source": [
    "### Train"
   ]
  },
  {
   "cell_type": "code",
   "execution_count": 27,
   "metadata": {},
   "outputs": [],
   "source": [
    "df_target = Train_set['Delivery_Status']"
   ]
  },
  {
   "cell_type": "code",
   "execution_count": 28,
   "metadata": {},
   "outputs": [
    {
     "data": {
      "text/html": [
       "<div>\n",
       "<style scoped>\n",
       "    .dataframe tbody tr th:only-of-type {\n",
       "        vertical-align: middle;\n",
       "    }\n",
       "\n",
       "    .dataframe tbody tr th {\n",
       "        vertical-align: top;\n",
       "    }\n",
       "\n",
       "    .dataframe thead th {\n",
       "        text-align: right;\n",
       "    }\n",
       "</style>\n",
       "<table border=\"1\" class=\"dataframe\">\n",
       "  <thead>\n",
       "    <tr style=\"text-align: right;\">\n",
       "      <th></th>\n",
       "      <th>Customer_Id</th>\n",
       "      <th>Zipcode</th>\n",
       "      <th>Sales</th>\n",
       "      <th>Price</th>\n",
       "      <th>Dept_Id</th>\n",
       "      <th>Profit_Ratio</th>\n",
       "      <th>Discount</th>\n",
       "      <th>Quantity</th>\n",
       "      <th>Order_Profit</th>\n",
       "      <th>Prod_Category_Id</th>\n",
       "      <th>ProductLength</th>\n",
       "      <th>ProductWeight</th>\n",
       "      <th>Dispatched</th>\n",
       "      <th>Scheduled_Shipping</th>\n",
       "      <th>Delivery_Review</th>\n",
       "      <th>Session_Ordered</th>\n",
       "      <th>WeekdayOrder</th>\n",
       "    </tr>\n",
       "  </thead>\n",
       "  <tbody>\n",
       "    <tr>\n",
       "      <th>0</th>\n",
       "      <td>1.339255</td>\n",
       "      <td>-0.448498</td>\n",
       "      <td>-0.379579</td>\n",
       "      <td>-0.572502</td>\n",
       "      <td>-0.886855</td>\n",
       "      <td>-0.094692</td>\n",
       "      <td>-0.076898</td>\n",
       "      <td>0.598466</td>\n",
       "      <td>-0.135147</td>\n",
       "      <td>-0.949593</td>\n",
       "      <td>1.736767</td>\n",
       "      <td>-0.282095</td>\n",
       "      <td>-0.806769</td>\n",
       "      <td>0.182170</td>\n",
       "      <td>1.749095</td>\n",
       "      <td>-0.001802</td>\n",
       "      <td>-0.995854</td>\n",
       "    </tr>\n",
       "    <tr>\n",
       "      <th>1</th>\n",
       "      <td>-1.003360</td>\n",
       "      <td>-0.880270</td>\n",
       "      <td>-0.254329</td>\n",
       "      <td>-0.581337</td>\n",
       "      <td>-0.886855</td>\n",
       "      <td>0.739455</td>\n",
       "      <td>0.769742</td>\n",
       "      <td>0.598466</td>\n",
       "      <td>0.113751</td>\n",
       "      <td>-0.949593</td>\n",
       "      <td>-0.310277</td>\n",
       "      <td>-0.304725</td>\n",
       "      <td>-0.806769</td>\n",
       "      <td>1.517719</td>\n",
       "      <td>-1.550003</td>\n",
       "      <td>-0.001802</td>\n",
       "      <td>1.004163</td>\n",
       "    </tr>\n",
       "  </tbody>\n",
       "</table>\n",
       "</div>"
      ],
      "text/plain": [
       "   Customer_Id   Zipcode     Sales     Price   Dept_Id  Profit_Ratio  \\\n",
       "0     1.339255 -0.448498 -0.379579 -0.572502 -0.886855     -0.094692   \n",
       "1    -1.003360 -0.880270 -0.254329 -0.581337 -0.886855      0.739455   \n",
       "\n",
       "   Discount  Quantity  Order_Profit   Prod_Category_Id  ProductLength  \\\n",
       "0 -0.076898  0.598466      -0.135147         -0.949593       1.736767   \n",
       "1  0.769742  0.598466       0.113751         -0.949593      -0.310277   \n",
       "\n",
       "   ProductWeight  Dispatched  Scheduled_Shipping  Delivery_Review  \\\n",
       "0      -0.282095   -0.806769            0.182170         1.749095   \n",
       "1      -0.304725   -0.806769            1.517719        -1.550003   \n",
       "\n",
       "   Session_Ordered  WeekdayOrder  \n",
       "0        -0.001802     -0.995854  \n",
       "1        -0.001802      1.004163  "
      ]
     },
     "execution_count": 28,
     "metadata": {},
     "output_type": "execute_result"
    }
   ],
   "source": [
    "scaler = StandardScaler()\n",
    "x = Num_var\n",
    "Num_var_scaled = scaler.fit_transform(Num_var)\n",
    "\n",
    "df_num_scaled = pd.DataFrame(Num_var_scaled, columns = x.columns)\n",
    "df_num_scaled.head(2)"
   ]
  },
  {
   "cell_type": "markdown",
   "metadata": {},
   "source": [
    "### Test"
   ]
  },
  {
   "cell_type": "code",
   "execution_count": 29,
   "metadata": {},
   "outputs": [
    {
     "data": {
      "text/html": [
       "<div>\n",
       "<style scoped>\n",
       "    .dataframe tbody tr th:only-of-type {\n",
       "        vertical-align: middle;\n",
       "    }\n",
       "\n",
       "    .dataframe tbody tr th {\n",
       "        vertical-align: top;\n",
       "    }\n",
       "\n",
       "    .dataframe thead th {\n",
       "        text-align: right;\n",
       "    }\n",
       "</style>\n",
       "<table border=\"1\" class=\"dataframe\">\n",
       "  <thead>\n",
       "    <tr style=\"text-align: right;\">\n",
       "      <th></th>\n",
       "      <th>Customer_Id</th>\n",
       "      <th>Zipcode</th>\n",
       "      <th>Sales</th>\n",
       "      <th>Price</th>\n",
       "      <th>Dept_Id</th>\n",
       "      <th>Profit_Ratio</th>\n",
       "      <th>Discount</th>\n",
       "      <th>Quantity</th>\n",
       "      <th>Order_Profit</th>\n",
       "      <th>Prod_Category_Id</th>\n",
       "      <th>ProductLength</th>\n",
       "      <th>ProductWeight</th>\n",
       "      <th>Dispatched</th>\n",
       "      <th>Scheduled_Shipping</th>\n",
       "      <th>Delivery_Review</th>\n",
       "      <th>Session_Ordered</th>\n",
       "      <th>WeekdayOrder</th>\n",
       "    </tr>\n",
       "  </thead>\n",
       "  <tbody>\n",
       "    <tr>\n",
       "      <th>0</th>\n",
       "      <td>2989</td>\n",
       "      <td>735</td>\n",
       "      <td>173.0</td>\n",
       "      <td>2833.08</td>\n",
       "      <td>5</td>\n",
       "      <td>-0.68</td>\n",
       "      <td>0.07</td>\n",
       "      <td>5</td>\n",
       "      <td>-1920.91</td>\n",
       "      <td>29</td>\n",
       "      <td>25.0</td>\n",
       "      <td>1720.0</td>\n",
       "      <td>0</td>\n",
       "      <td>6</td>\n",
       "      <td>5.0</td>\n",
       "      <td>2.0</td>\n",
       "      <td>1</td>\n",
       "    </tr>\n",
       "  </tbody>\n",
       "</table>\n",
       "</div>"
      ],
      "text/plain": [
       "   Customer_Id  Zipcode  Sales    Price  Dept_Id  Profit_Ratio  Discount  \\\n",
       "0         2989      735  173.0  2833.08        5         -0.68      0.07   \n",
       "\n",
       "   Quantity  Order_Profit   Prod_Category_Id  ProductLength  ProductWeight  \\\n",
       "0         5       -1920.91                29           25.0         1720.0   \n",
       "\n",
       "   Dispatched  Scheduled_Shipping  Delivery_Review  Session_Ordered  \\\n",
       "0           0                   6              5.0              2.0   \n",
       "\n",
       "   WeekdayOrder  \n",
       "0             1  "
      ]
     },
     "execution_count": 29,
     "metadata": {},
     "output_type": "execute_result"
    }
   ],
   "source": [
    "Num_var_test = Test_set.select_dtypes(include=np.number)\n",
    "Num_var_test.head(1)"
   ]
  },
  {
   "cell_type": "code",
   "execution_count": 30,
   "metadata": {},
   "outputs": [
    {
     "data": {
      "text/html": [
       "<div>\n",
       "<style scoped>\n",
       "    .dataframe tbody tr th:only-of-type {\n",
       "        vertical-align: middle;\n",
       "    }\n",
       "\n",
       "    .dataframe tbody tr th {\n",
       "        vertical-align: top;\n",
       "    }\n",
       "\n",
       "    .dataframe thead th {\n",
       "        text-align: right;\n",
       "    }\n",
       "</style>\n",
       "<table border=\"1\" class=\"dataframe\">\n",
       "  <thead>\n",
       "    <tr style=\"text-align: right;\">\n",
       "      <th></th>\n",
       "      <th>Customer_Id</th>\n",
       "      <th>Zipcode</th>\n",
       "      <th>Sales</th>\n",
       "      <th>Price</th>\n",
       "      <th>Dept_Id</th>\n",
       "      <th>Profit_Ratio</th>\n",
       "      <th>Discount</th>\n",
       "      <th>Quantity</th>\n",
       "      <th>Order_Profit</th>\n",
       "      <th>Prod_Category_Id</th>\n",
       "      <th>ProductLength</th>\n",
       "      <th>ProductWeight</th>\n",
       "      <th>Dispatched</th>\n",
       "      <th>Scheduled_Shipping</th>\n",
       "      <th>Delivery_Review</th>\n",
       "      <th>Session_Ordered</th>\n",
       "      <th>WeekdayOrder</th>\n",
       "    </tr>\n",
       "  </thead>\n",
       "  <tbody>\n",
       "    <tr>\n",
       "      <th>0</th>\n",
       "      <td>-0.912621</td>\n",
       "      <td>-0.936478</td>\n",
       "      <td>-0.181501</td>\n",
       "      <td>-0.72786</td>\n",
       "      <td>-0.271337</td>\n",
       "      <td>-1.689855</td>\n",
       "      <td>-0.501509</td>\n",
       "      <td>1.98368</td>\n",
       "      <td>-0.42934</td>\n",
       "      <td>-0.180914</td>\n",
       "      <td>-1.294907</td>\n",
       "      <td>-0.267796</td>\n",
       "      <td>-0.804818</td>\n",
       "      <td>1.523889</td>\n",
       "      <td>1.748604</td>\n",
       "      <td>0.050977</td>\n",
       "      <td>0.997455</td>\n",
       "    </tr>\n",
       "  </tbody>\n",
       "</table>\n",
       "</div>"
      ],
      "text/plain": [
       "   Customer_Id   Zipcode     Sales    Price   Dept_Id  Profit_Ratio  Discount  \\\n",
       "0    -0.912621 -0.936478 -0.181501 -0.72786 -0.271337     -1.689855 -0.501509   \n",
       "\n",
       "   Quantity  Order_Profit   Prod_Category_Id  ProductLength  ProductWeight  \\\n",
       "0   1.98368       -0.42934         -0.180914      -1.294907      -0.267796   \n",
       "\n",
       "   Dispatched  Scheduled_Shipping  Delivery_Review  Session_Ordered  \\\n",
       "0   -0.804818            1.523889         1.748604         0.050977   \n",
       "\n",
       "   WeekdayOrder  \n",
       "0      0.997455  "
      ]
     },
     "execution_count": 30,
     "metadata": {},
     "output_type": "execute_result"
    }
   ],
   "source": [
    "scaler = StandardScaler()\n",
    "Num_var_scaled = scaler.fit_transform(Num_var_test)\n",
    "df_num_scaled_test = pd.DataFrame(Num_var_scaled, columns = x.columns)\n",
    "df_num_scaled_test.head(1)"
   ]
  },
  {
   "cell_type": "markdown",
   "metadata": {},
   "source": [
    "### Encoing Categorical Variable"
   ]
  },
  {
   "cell_type": "markdown",
   "metadata": {},
   "source": [
    "### Train"
   ]
  },
  {
   "cell_type": "code",
   "execution_count": 31,
   "metadata": {},
   "outputs": [
    {
     "data": {
      "text/html": [
       "<div>\n",
       "<style scoped>\n",
       "    .dataframe tbody tr th:only-of-type {\n",
       "        vertical-align: middle;\n",
       "    }\n",
       "\n",
       "    .dataframe tbody tr th {\n",
       "        vertical-align: top;\n",
       "    }\n",
       "\n",
       "    .dataframe thead th {\n",
       "        text-align: right;\n",
       "    }\n",
       "</style>\n",
       "<table border=\"1\" class=\"dataframe\">\n",
       "  <thead>\n",
       "    <tr style=\"text-align: right;\">\n",
       "      <th></th>\n",
       "      <th>Customer_Category</th>\n",
       "      <th>Cust_State</th>\n",
       "      <th>Order_zone</th>\n",
       "      <th>CategoryName</th>\n",
       "      <th>Transcation</th>\n",
       "      <th>Dept_Name</th>\n",
       "      <th>Product_type</th>\n",
       "      <th>Shipping_Class</th>\n",
       "      <th>Warehouse_Region</th>\n",
       "    </tr>\n",
       "  </thead>\n",
       "  <tbody>\n",
       "    <tr>\n",
       "      <th>0</th>\n",
       "      <td>Consumer</td>\n",
       "      <td>AR</td>\n",
       "      <td>Central</td>\n",
       "      <td>Cat-2</td>\n",
       "      <td>UPI</td>\n",
       "      <td>Apparel</td>\n",
       "      <td>Fragile</td>\n",
       "      <td>Standard</td>\n",
       "      <td>NORTH</td>\n",
       "    </tr>\n",
       "    <tr>\n",
       "      <th>1</th>\n",
       "      <td>Consumer</td>\n",
       "      <td>BR</td>\n",
       "      <td>East</td>\n",
       "      <td>Cat-2</td>\n",
       "      <td>UPI</td>\n",
       "      <td>Apparel</td>\n",
       "      <td>Fragile</td>\n",
       "      <td>Standard</td>\n",
       "      <td>NORTH</td>\n",
       "    </tr>\n",
       "  </tbody>\n",
       "</table>\n",
       "</div>"
      ],
      "text/plain": [
       "  Customer_Category Cust_State Order_zone CategoryName Transcation Dept_Name  \\\n",
       "0          Consumer         AR    Central        Cat-2         UPI   Apparel   \n",
       "1          Consumer         BR       East        Cat-2         UPI   Apparel   \n",
       "\n",
       "  Product_type Shipping_Class Warehouse_Region  \n",
       "0      Fragile       Standard            NORTH  \n",
       "1      Fragile       Standard            NORTH  "
      ]
     },
     "execution_count": 31,
     "metadata": {},
     "output_type": "execute_result"
    }
   ],
   "source": [
    "Cat_var = Train_set.select_dtypes(include = \"object\")\n",
    "Cat_var.head(2)"
   ]
  },
  {
   "cell_type": "code",
   "execution_count": 101,
   "metadata": {},
   "outputs": [],
   "source": [
    "# for i in Cat_var:\n",
    "#     print(i)\n",
    "#     print(Cat_var[i].unique())\n",
    "#     print(\"\\n\")"
   ]
  },
  {
   "cell_type": "code",
   "execution_count": 32,
   "metadata": {},
   "outputs": [],
   "source": [
    "def Encoding(x):\n",
    "    if x.dtype == 'object':\n",
    "        x= LabelEncoder().fit_transform(x)\n",
    "    return x"
   ]
  },
  {
   "cell_type": "code",
   "execution_count": 33,
   "metadata": {},
   "outputs": [
    {
     "data": {
      "text/html": [
       "<div>\n",
       "<style scoped>\n",
       "    .dataframe tbody tr th:only-of-type {\n",
       "        vertical-align: middle;\n",
       "    }\n",
       "\n",
       "    .dataframe tbody tr th {\n",
       "        vertical-align: top;\n",
       "    }\n",
       "\n",
       "    .dataframe thead th {\n",
       "        text-align: right;\n",
       "    }\n",
       "</style>\n",
       "<table border=\"1\" class=\"dataframe\">\n",
       "  <thead>\n",
       "    <tr style=\"text-align: right;\">\n",
       "      <th></th>\n",
       "      <th>Customer_Category</th>\n",
       "      <th>Cust_State</th>\n",
       "      <th>Order_zone</th>\n",
       "      <th>CategoryName</th>\n",
       "      <th>Transcation</th>\n",
       "      <th>Dept_Name</th>\n",
       "      <th>Product_type</th>\n",
       "      <th>Shipping_Class</th>\n",
       "      <th>Warehouse_Region</th>\n",
       "    </tr>\n",
       "  </thead>\n",
       "  <tbody>\n",
       "    <tr>\n",
       "      <th>0</th>\n",
       "      <td>0</td>\n",
       "      <td>1</td>\n",
       "      <td>0</td>\n",
       "      <td>11</td>\n",
       "      <td>3</td>\n",
       "      <td>0</td>\n",
       "      <td>0</td>\n",
       "      <td>3</td>\n",
       "      <td>2</td>\n",
       "    </tr>\n",
       "    <tr>\n",
       "      <th>1</th>\n",
       "      <td>0</td>\n",
       "      <td>2</td>\n",
       "      <td>1</td>\n",
       "      <td>11</td>\n",
       "      <td>3</td>\n",
       "      <td>0</td>\n",
       "      <td>0</td>\n",
       "      <td>3</td>\n",
       "      <td>2</td>\n",
       "    </tr>\n",
       "  </tbody>\n",
       "</table>\n",
       "</div>"
      ],
      "text/plain": [
       "   Customer_Category  Cust_State  Order_zone  CategoryName  Transcation  \\\n",
       "0                  0           1           0            11            3   \n",
       "1                  0           2           1            11            3   \n",
       "\n",
       "   Dept_Name  Product_type  Shipping_Class  Warehouse_Region  \n",
       "0          0             0               3                 2  \n",
       "1          0             0               3                 2  "
      ]
     },
     "execution_count": 33,
     "metadata": {},
     "output_type": "execute_result"
    }
   ],
   "source": [
    "Cat_var_coded = Cat_var.apply(lambda x: Encoding(x))\n",
    "Cat_var_coded.head(2)"
   ]
  },
  {
   "cell_type": "markdown",
   "metadata": {},
   "source": [
    "### Test"
   ]
  },
  {
   "cell_type": "code",
   "execution_count": 34,
   "metadata": {},
   "outputs": [
    {
     "data": {
      "text/html": [
       "<div>\n",
       "<style scoped>\n",
       "    .dataframe tbody tr th:only-of-type {\n",
       "        vertical-align: middle;\n",
       "    }\n",
       "\n",
       "    .dataframe tbody tr th {\n",
       "        vertical-align: top;\n",
       "    }\n",
       "\n",
       "    .dataframe thead th {\n",
       "        text-align: right;\n",
       "    }\n",
       "</style>\n",
       "<table border=\"1\" class=\"dataframe\">\n",
       "  <thead>\n",
       "    <tr style=\"text-align: right;\">\n",
       "      <th></th>\n",
       "      <th>Customer_Category</th>\n",
       "      <th>Cust_State</th>\n",
       "      <th>Order_zone</th>\n",
       "      <th>CategoryName</th>\n",
       "      <th>Transcation</th>\n",
       "      <th>Dept_Name</th>\n",
       "      <th>Product_type</th>\n",
       "      <th>Shipping_Class</th>\n",
       "      <th>Warehouse_Region</th>\n",
       "    </tr>\n",
       "  </thead>\n",
       "  <tbody>\n",
       "    <tr>\n",
       "      <th>0</th>\n",
       "      <td>others</td>\n",
       "      <td>HR</td>\n",
       "      <td>West</td>\n",
       "      <td>Cat-3</td>\n",
       "      <td>UPI</td>\n",
       "      <td>Golf</td>\n",
       "      <td>Fragile</td>\n",
       "      <td>Standard</td>\n",
       "      <td>NORTH</td>\n",
       "    </tr>\n",
       "    <tr>\n",
       "      <th>1</th>\n",
       "      <td>Consumer</td>\n",
       "      <td>MA</td>\n",
       "      <td>Central</td>\n",
       "      <td>Cat-49</td>\n",
       "      <td>Debit</td>\n",
       "      <td>Fan Shop</td>\n",
       "      <td>Fragile</td>\n",
       "      <td>Standard</td>\n",
       "      <td>CENTRAL</td>\n",
       "    </tr>\n",
       "  </tbody>\n",
       "</table>\n",
       "</div>"
      ],
      "text/plain": [
       "  Customer_Category Cust_State Order_zone CategoryName Transcation Dept_Name  \\\n",
       "0            others         HR       West        Cat-3         UPI      Golf   \n",
       "1          Consumer         MA    Central       Cat-49       Debit  Fan Shop   \n",
       "\n",
       "  Product_type Shipping_Class Warehouse_Region  \n",
       "0      Fragile       Standard            NORTH  \n",
       "1      Fragile       Standard          CENTRAL  "
      ]
     },
     "execution_count": 34,
     "metadata": {},
     "output_type": "execute_result"
    }
   ],
   "source": [
    "Cat_var_test = Test_set.select_dtypes(include = \"object\")\n",
    "Cat_var_test.head(2)"
   ]
  },
  {
   "cell_type": "code",
   "execution_count": 35,
   "metadata": {},
   "outputs": [
    {
     "data": {
      "text/html": [
       "<div>\n",
       "<style scoped>\n",
       "    .dataframe tbody tr th:only-of-type {\n",
       "        vertical-align: middle;\n",
       "    }\n",
       "\n",
       "    .dataframe tbody tr th {\n",
       "        vertical-align: top;\n",
       "    }\n",
       "\n",
       "    .dataframe thead th {\n",
       "        text-align: right;\n",
       "    }\n",
       "</style>\n",
       "<table border=\"1\" class=\"dataframe\">\n",
       "  <thead>\n",
       "    <tr style=\"text-align: right;\">\n",
       "      <th></th>\n",
       "      <th>Customer_Category</th>\n",
       "      <th>Cust_State</th>\n",
       "      <th>Order_zone</th>\n",
       "      <th>CategoryName</th>\n",
       "      <th>Transcation</th>\n",
       "      <th>Dept_Name</th>\n",
       "      <th>Product_type</th>\n",
       "      <th>Shipping_Class</th>\n",
       "      <th>Warehouse_Region</th>\n",
       "    </tr>\n",
       "  </thead>\n",
       "  <tbody>\n",
       "    <tr>\n",
       "      <th>0</th>\n",
       "      <td>2</td>\n",
       "      <td>5</td>\n",
       "      <td>4</td>\n",
       "      <td>22</td>\n",
       "      <td>3</td>\n",
       "      <td>6</td>\n",
       "      <td>0</td>\n",
       "      <td>3</td>\n",
       "      <td>2</td>\n",
       "    </tr>\n",
       "    <tr>\n",
       "      <th>1</th>\n",
       "      <td>0</td>\n",
       "      <td>9</td>\n",
       "      <td>0</td>\n",
       "      <td>43</td>\n",
       "      <td>2</td>\n",
       "      <td>3</td>\n",
       "      <td>0</td>\n",
       "      <td>3</td>\n",
       "      <td>0</td>\n",
       "    </tr>\n",
       "  </tbody>\n",
       "</table>\n",
       "</div>"
      ],
      "text/plain": [
       "   Customer_Category  Cust_State  Order_zone  CategoryName  Transcation  \\\n",
       "0                  2           5           4            22            3   \n",
       "1                  0           9           0            43            2   \n",
       "\n",
       "   Dept_Name  Product_type  Shipping_Class  Warehouse_Region  \n",
       "0          6             0               3                 2  \n",
       "1          3             0               3                 0  "
      ]
     },
     "execution_count": 35,
     "metadata": {},
     "output_type": "execute_result"
    }
   ],
   "source": [
    "Cat_var_test_encoded = Cat_var_test.apply(lambda x: Encoding(x))\n",
    "Cat_var_test_encoded.head(2)"
   ]
  },
  {
   "cell_type": "markdown",
   "metadata": {},
   "source": [
    "### Merging Numberic and Categorical Columns"
   ]
  },
  {
   "cell_type": "code",
   "execution_count": 36,
   "metadata": {},
   "outputs": [
    {
     "data": {
      "text/html": [
       "<div>\n",
       "<style scoped>\n",
       "    .dataframe tbody tr th:only-of-type {\n",
       "        vertical-align: middle;\n",
       "    }\n",
       "\n",
       "    .dataframe tbody tr th {\n",
       "        vertical-align: top;\n",
       "    }\n",
       "\n",
       "    .dataframe thead th {\n",
       "        text-align: right;\n",
       "    }\n",
       "</style>\n",
       "<table border=\"1\" class=\"dataframe\">\n",
       "  <thead>\n",
       "    <tr style=\"text-align: right;\">\n",
       "      <th></th>\n",
       "      <th>Customer_Id</th>\n",
       "      <th>Zipcode</th>\n",
       "      <th>Sales</th>\n",
       "      <th>Price</th>\n",
       "      <th>Dept_Id</th>\n",
       "      <th>Profit_Ratio</th>\n",
       "      <th>Discount</th>\n",
       "      <th>Quantity</th>\n",
       "      <th>Order_Profit</th>\n",
       "      <th>Prod_Category_Id</th>\n",
       "      <th>ProductLength</th>\n",
       "      <th>ProductWeight</th>\n",
       "      <th>Dispatched</th>\n",
       "      <th>Scheduled_Shipping</th>\n",
       "      <th>Delivery_Review</th>\n",
       "      <th>Session_Ordered</th>\n",
       "      <th>WeekdayOrder</th>\n",
       "      <th>Customer_Category</th>\n",
       "      <th>Cust_State</th>\n",
       "      <th>Order_zone</th>\n",
       "      <th>CategoryName</th>\n",
       "      <th>Transcation</th>\n",
       "      <th>Dept_Name</th>\n",
       "      <th>Product_type</th>\n",
       "      <th>Shipping_Class</th>\n",
       "      <th>Warehouse_Region</th>\n",
       "      <th>Delivery_Status</th>\n",
       "    </tr>\n",
       "  </thead>\n",
       "  <tbody>\n",
       "    <tr>\n",
       "      <th>0</th>\n",
       "      <td>1.339255</td>\n",
       "      <td>-0.448498</td>\n",
       "      <td>-0.379579</td>\n",
       "      <td>-0.572502</td>\n",
       "      <td>-0.886855</td>\n",
       "      <td>-0.094692</td>\n",
       "      <td>-0.076898</td>\n",
       "      <td>0.598466</td>\n",
       "      <td>-0.135147</td>\n",
       "      <td>-0.949593</td>\n",
       "      <td>1.736767</td>\n",
       "      <td>-0.282095</td>\n",
       "      <td>-0.806769</td>\n",
       "      <td>0.18217</td>\n",
       "      <td>1.749095</td>\n",
       "      <td>-0.001802</td>\n",
       "      <td>-0.995854</td>\n",
       "      <td>0</td>\n",
       "      <td>1</td>\n",
       "      <td>0</td>\n",
       "      <td>11</td>\n",
       "      <td>3</td>\n",
       "      <td>0</td>\n",
       "      <td>0</td>\n",
       "      <td>3</td>\n",
       "      <td>2</td>\n",
       "      <td>0</td>\n",
       "    </tr>\n",
       "  </tbody>\n",
       "</table>\n",
       "</div>"
      ],
      "text/plain": [
       "   Customer_Id   Zipcode     Sales     Price   Dept_Id  Profit_Ratio  \\\n",
       "0     1.339255 -0.448498 -0.379579 -0.572502 -0.886855     -0.094692   \n",
       "\n",
       "   Discount  Quantity  Order_Profit   Prod_Category_Id  ProductLength  \\\n",
       "0 -0.076898  0.598466      -0.135147         -0.949593       1.736767   \n",
       "\n",
       "   ProductWeight  Dispatched  Scheduled_Shipping  Delivery_Review  \\\n",
       "0      -0.282095   -0.806769             0.18217         1.749095   \n",
       "\n",
       "   Session_Ordered  WeekdayOrder  Customer_Category  Cust_State  Order_zone  \\\n",
       "0        -0.001802     -0.995854                  0           1           0   \n",
       "\n",
       "   CategoryName  Transcation  Dept_Name  Product_type  Shipping_Class  \\\n",
       "0            11            3          0             0               3   \n",
       "\n",
       "   Warehouse_Region  Delivery_Status  \n",
       "0                 2                0  "
      ]
     },
     "execution_count": 36,
     "metadata": {},
     "output_type": "execute_result"
    }
   ],
   "source": [
    "Train_set = pd.concat([df_num_scaled, Cat_var_coded, df_target], axis = 1)\n",
    "Train_set.head(1)"
   ]
  },
  {
   "cell_type": "code",
   "execution_count": 37,
   "metadata": {},
   "outputs": [
    {
     "data": {
      "text/html": [
       "<div>\n",
       "<style scoped>\n",
       "    .dataframe tbody tr th:only-of-type {\n",
       "        vertical-align: middle;\n",
       "    }\n",
       "\n",
       "    .dataframe tbody tr th {\n",
       "        vertical-align: top;\n",
       "    }\n",
       "\n",
       "    .dataframe thead th {\n",
       "        text-align: right;\n",
       "    }\n",
       "</style>\n",
       "<table border=\"1\" class=\"dataframe\">\n",
       "  <thead>\n",
       "    <tr style=\"text-align: right;\">\n",
       "      <th></th>\n",
       "      <th>Customer_Id</th>\n",
       "      <th>Zipcode</th>\n",
       "      <th>Sales</th>\n",
       "      <th>Price</th>\n",
       "      <th>Dept_Id</th>\n",
       "      <th>Profit_Ratio</th>\n",
       "      <th>Discount</th>\n",
       "      <th>Quantity</th>\n",
       "      <th>Order_Profit</th>\n",
       "      <th>Prod_Category_Id</th>\n",
       "      <th>ProductLength</th>\n",
       "      <th>ProductWeight</th>\n",
       "      <th>Dispatched</th>\n",
       "      <th>Scheduled_Shipping</th>\n",
       "      <th>Delivery_Review</th>\n",
       "      <th>Session_Ordered</th>\n",
       "      <th>WeekdayOrder</th>\n",
       "      <th>Customer_Category</th>\n",
       "      <th>Cust_State</th>\n",
       "      <th>Order_zone</th>\n",
       "      <th>CategoryName</th>\n",
       "      <th>Transcation</th>\n",
       "      <th>Dept_Name</th>\n",
       "      <th>Product_type</th>\n",
       "      <th>Shipping_Class</th>\n",
       "      <th>Warehouse_Region</th>\n",
       "    </tr>\n",
       "  </thead>\n",
       "  <tbody>\n",
       "    <tr>\n",
       "      <th>0</th>\n",
       "      <td>-0.912621</td>\n",
       "      <td>-0.936478</td>\n",
       "      <td>-0.181501</td>\n",
       "      <td>-0.72786</td>\n",
       "      <td>-0.271337</td>\n",
       "      <td>-1.689855</td>\n",
       "      <td>-0.501509</td>\n",
       "      <td>1.98368</td>\n",
       "      <td>-0.42934</td>\n",
       "      <td>-0.180914</td>\n",
       "      <td>-1.294907</td>\n",
       "      <td>-0.267796</td>\n",
       "      <td>-0.804818</td>\n",
       "      <td>1.523889</td>\n",
       "      <td>1.748604</td>\n",
       "      <td>0.050977</td>\n",
       "      <td>0.997455</td>\n",
       "      <td>2</td>\n",
       "      <td>5</td>\n",
       "      <td>4</td>\n",
       "      <td>22</td>\n",
       "      <td>3</td>\n",
       "      <td>6</td>\n",
       "      <td>0</td>\n",
       "      <td>3</td>\n",
       "      <td>2</td>\n",
       "    </tr>\n",
       "  </tbody>\n",
       "</table>\n",
       "</div>"
      ],
      "text/plain": [
       "   Customer_Id   Zipcode     Sales    Price   Dept_Id  Profit_Ratio  Discount  \\\n",
       "0    -0.912621 -0.936478 -0.181501 -0.72786 -0.271337     -1.689855 -0.501509   \n",
       "\n",
       "   Quantity  Order_Profit   Prod_Category_Id  ProductLength  ProductWeight  \\\n",
       "0   1.98368       -0.42934         -0.180914      -1.294907      -0.267796   \n",
       "\n",
       "   Dispatched  Scheduled_Shipping  Delivery_Review  Session_Ordered  \\\n",
       "0   -0.804818            1.523889         1.748604         0.050977   \n",
       "\n",
       "   WeekdayOrder  Customer_Category  Cust_State  Order_zone  CategoryName  \\\n",
       "0      0.997455                  2           5           4            22   \n",
       "\n",
       "   Transcation  Dept_Name  Product_type  Shipping_Class  Warehouse_Region  \n",
       "0            3          6             0               3                 2  "
      ]
     },
     "execution_count": 37,
     "metadata": {},
     "output_type": "execute_result"
    }
   ],
   "source": [
    "Test_set = pd.concat([df_num_scaled_test, Cat_var_test_encoded], axis = 1)\n",
    "Test_set.head(1)"
   ]
  },
  {
   "cell_type": "markdown",
   "metadata": {},
   "source": [
    "### Statistical Testing"
   ]
  },
  {
   "cell_type": "code",
   "execution_count": 41,
   "metadata": {},
   "outputs": [],
   "source": [
    "from scipy import stats"
   ]
  },
  {
   "cell_type": "code",
   "execution_count": 44,
   "metadata": {},
   "outputs": [
    {
     "data": {
      "text/html": [
       "<div>\n",
       "<style scoped>\n",
       "    .dataframe tbody tr th:only-of-type {\n",
       "        vertical-align: middle;\n",
       "    }\n",
       "\n",
       "    .dataframe tbody tr th {\n",
       "        vertical-align: top;\n",
       "    }\n",
       "\n",
       "    .dataframe thead th {\n",
       "        text-align: right;\n",
       "    }\n",
       "</style>\n",
       "<table border=\"1\" class=\"dataframe\">\n",
       "  <thead>\n",
       "    <tr style=\"text-align: right;\">\n",
       "      <th></th>\n",
       "      <th>Customer_Id</th>\n",
       "      <th>Zipcode</th>\n",
       "      <th>Sales</th>\n",
       "      <th>Price</th>\n",
       "      <th>Dept_Id</th>\n",
       "      <th>Profit_Ratio</th>\n",
       "      <th>Discount</th>\n",
       "      <th>Quantity</th>\n",
       "      <th>Order_Profit</th>\n",
       "      <th>Prod_Category_Id</th>\n",
       "      <th>ProductLength</th>\n",
       "      <th>ProductWeight</th>\n",
       "      <th>Dispatched</th>\n",
       "      <th>Scheduled_Shipping</th>\n",
       "      <th>Delivery_Review</th>\n",
       "      <th>Session_Ordered</th>\n",
       "      <th>WeekdayOrder</th>\n",
       "      <th>Customer_Category</th>\n",
       "      <th>Cust_State</th>\n",
       "      <th>Order_zone</th>\n",
       "      <th>CategoryName</th>\n",
       "      <th>Transcation</th>\n",
       "      <th>Dept_Name</th>\n",
       "      <th>Product_type</th>\n",
       "      <th>Shipping_Class</th>\n",
       "      <th>Warehouse_Region</th>\n",
       "      <th>Delivery_Status</th>\n",
       "    </tr>\n",
       "  </thead>\n",
       "  <tbody>\n",
       "    <tr>\n",
       "      <th>0</th>\n",
       "      <td>1.339255</td>\n",
       "      <td>-0.448498</td>\n",
       "      <td>-0.379579</td>\n",
       "      <td>-0.572502</td>\n",
       "      <td>-0.886855</td>\n",
       "      <td>-0.094692</td>\n",
       "      <td>-0.076898</td>\n",
       "      <td>0.598466</td>\n",
       "      <td>-0.135147</td>\n",
       "      <td>-0.949593</td>\n",
       "      <td>1.736767</td>\n",
       "      <td>-0.282095</td>\n",
       "      <td>-0.806769</td>\n",
       "      <td>0.18217</td>\n",
       "      <td>1.749095</td>\n",
       "      <td>-0.001802</td>\n",
       "      <td>-0.995854</td>\n",
       "      <td>0</td>\n",
       "      <td>1</td>\n",
       "      <td>0</td>\n",
       "      <td>11</td>\n",
       "      <td>3</td>\n",
       "      <td>0</td>\n",
       "      <td>0</td>\n",
       "      <td>3</td>\n",
       "      <td>2</td>\n",
       "      <td>0</td>\n",
       "    </tr>\n",
       "  </tbody>\n",
       "</table>\n",
       "</div>"
      ],
      "text/plain": [
       "   Customer_Id   Zipcode     Sales     Price   Dept_Id  Profit_Ratio  \\\n",
       "0     1.339255 -0.448498 -0.379579 -0.572502 -0.886855     -0.094692   \n",
       "\n",
       "   Discount  Quantity  Order_Profit   Prod_Category_Id  ProductLength  \\\n",
       "0 -0.076898  0.598466      -0.135147         -0.949593       1.736767   \n",
       "\n",
       "   ProductWeight  Dispatched  Scheduled_Shipping  Delivery_Review  \\\n",
       "0      -0.282095   -0.806769             0.18217         1.749095   \n",
       "\n",
       "   Session_Ordered  WeekdayOrder  Customer_Category  Cust_State  Order_zone  \\\n",
       "0        -0.001802     -0.995854                  0           1           0   \n",
       "\n",
       "   CategoryName  Transcation  Dept_Name  Product_type  Shipping_Class  \\\n",
       "0            11            3          0             0               3   \n",
       "\n",
       "   Warehouse_Region  Delivery_Status  \n",
       "0                 2                0  "
      ]
     },
     "execution_count": 44,
     "metadata": {},
     "output_type": "execute_result"
    }
   ],
   "source": [
    "Train_set_copy = Train_set.copy()\n",
    "Train_set_copy.head(1)"
   ]
  },
  {
   "cell_type": "code",
   "execution_count": 82,
   "metadata": {},
   "outputs": [
    {
     "data": {
      "text/plain": [
       "Index(['Customer_Id', 'Zipcode', 'Sales', 'Price', 'Dept_Id', 'Profit_Ratio',\n",
       "       'Discount', 'Quantity', 'Order_Profit ', 'Prod_Category_Id',\n",
       "       'ProductLength', 'ProductWeight', 'Dispatched', 'Scheduled_Shipping',\n",
       "       'Delivery_Review', 'Session_Ordered', 'WeekdayOrder'],\n",
       "      dtype='object')"
      ]
     },
     "execution_count": 82,
     "metadata": {},
     "output_type": "execute_result"
    }
   ],
   "source": [
    "Num_var.columns"
   ]
  },
  {
   "cell_type": "markdown",
   "metadata": {},
   "source": [
    "#### For Numerical Columns"
   ]
  },
  {
   "cell_type": "code",
   "execution_count": 89,
   "metadata": {},
   "outputs": [],
   "source": [
    "X_new = X.drop([\"Customer_Id\",\"Zipcode\",'Sales', 'Price', 'Dept_Id', 'Profit_Ratio','Discount', 'Quantity', 'Order_Profit ', 'Prod_Category_Id', 'ProductWeight', 'Dispatched',\n",
    "       'Delivery_Review', 'Session_Ordered', 'WeekdayOrder',\"Customer_Category\", \"Cust_State\", \"Order_zone\", \"CategoryName\",\"Dept_Name\",\"Warehouse_Region\"], axis=1)"
   ]
  },
  {
   "cell_type": "code",
   "execution_count": 50,
   "metadata": {},
   "outputs": [
    {
     "data": {
      "text/html": [
       "<div>\n",
       "<style scoped>\n",
       "    .dataframe tbody tr th:only-of-type {\n",
       "        vertical-align: middle;\n",
       "    }\n",
       "\n",
       "    .dataframe tbody tr th {\n",
       "        vertical-align: top;\n",
       "    }\n",
       "\n",
       "    .dataframe thead th {\n",
       "        text-align: right;\n",
       "    }\n",
       "</style>\n",
       "<table border=\"1\" class=\"dataframe\">\n",
       "  <thead>\n",
       "    <tr style=\"text-align: right;\">\n",
       "      <th></th>\n",
       "      <th>Pvalue</th>\n",
       "      <th>Significant</th>\n",
       "    </tr>\n",
       "  </thead>\n",
       "  <tbody>\n",
       "    <tr>\n",
       "      <th>Customer_Id</th>\n",
       "      <td>0.07685031717468363</td>\n",
       "      <td>No</td>\n",
       "    </tr>\n",
       "    <tr>\n",
       "      <th>Zipcode</th>\n",
       "      <td>0.7245368047223054</td>\n",
       "      <td>No</td>\n",
       "    </tr>\n",
       "    <tr>\n",
       "      <th>Sales</th>\n",
       "      <td>0.40395234532875834</td>\n",
       "      <td>No</td>\n",
       "    </tr>\n",
       "    <tr>\n",
       "      <th>Price</th>\n",
       "      <td>0.49829304803455166</td>\n",
       "      <td>No</td>\n",
       "    </tr>\n",
       "    <tr>\n",
       "      <th>Dept_Id</th>\n",
       "      <td>0.64791867834765</td>\n",
       "      <td>No</td>\n",
       "    </tr>\n",
       "    <tr>\n",
       "      <th>Profit_Ratio</th>\n",
       "      <td>0.3305423414206031</td>\n",
       "      <td>No</td>\n",
       "    </tr>\n",
       "    <tr>\n",
       "      <th>Discount</th>\n",
       "      <td>0.14118314285315603</td>\n",
       "      <td>No</td>\n",
       "    </tr>\n",
       "    <tr>\n",
       "      <th>Quantity</th>\n",
       "      <td>0.9334829817384092</td>\n",
       "      <td>No</td>\n",
       "    </tr>\n",
       "    <tr>\n",
       "      <th>Order_Profit</th>\n",
       "      <td>0.5500727284836492</td>\n",
       "      <td>No</td>\n",
       "    </tr>\n",
       "    <tr>\n",
       "      <th>Prod_Category_Id</th>\n",
       "      <td>0.8381554160101528</td>\n",
       "      <td>No</td>\n",
       "    </tr>\n",
       "    <tr>\n",
       "      <th>ProductLength</th>\n",
       "      <td>0.010227315826832662</td>\n",
       "      <td>Yes</td>\n",
       "    </tr>\n",
       "    <tr>\n",
       "      <th>ProductWeight</th>\n",
       "      <td>0.11612084031699858</td>\n",
       "      <td>No</td>\n",
       "    </tr>\n",
       "    <tr>\n",
       "      <th>Dispatched</th>\n",
       "      <td>0.4147922525891218</td>\n",
       "      <td>No</td>\n",
       "    </tr>\n",
       "    <tr>\n",
       "      <th>Scheduled_Shipping</th>\n",
       "      <td>0.</td>\n",
       "      <td>Yes</td>\n",
       "    </tr>\n",
       "    <tr>\n",
       "      <th>Delivery_Review</th>\n",
       "      <td>0.2938316325169371</td>\n",
       "      <td>No</td>\n",
       "    </tr>\n",
       "    <tr>\n",
       "      <th>Session_Ordered</th>\n",
       "      <td>0.9623350789440606</td>\n",
       "      <td>No</td>\n",
       "    </tr>\n",
       "    <tr>\n",
       "      <th>WeekdayOrder</th>\n",
       "      <td>0.4975368311438818</td>\n",
       "      <td>No</td>\n",
       "    </tr>\n",
       "  </tbody>\n",
       "</table>\n",
       "</div>"
      ],
      "text/plain": [
       "                                  Pvalue Significant\n",
       "Customer_Id          0.07685031717468363          No\n",
       "Zipcode               0.7245368047223054          No\n",
       "Sales                0.40395234532875834          No\n",
       "Price                0.49829304803455166          No\n",
       "Dept_Id                 0.64791867834765          No\n",
       "Profit_Ratio          0.3305423414206031          No\n",
       "Discount             0.14118314285315603          No\n",
       "Quantity              0.9334829817384092          No\n",
       "Order_Profit          0.5500727284836492          No\n",
       "Prod_Category_Id      0.8381554160101528          No\n",
       "ProductLength       0.010227315826832662         Yes\n",
       "ProductWeight        0.11612084031699858          No\n",
       "Dispatched            0.4147922525891218          No\n",
       "Scheduled_Shipping                    0.         Yes\n",
       "Delivery_Review       0.2938316325169371          No\n",
       "Session_Ordered       0.9623350789440606          No\n",
       "WeekdayOrder          0.4975368311438818          No"
      ]
     },
     "execution_count": 50,
     "metadata": {},
     "output_type": "execute_result"
    }
   ],
   "source": [
    "x1 = []\n",
    "x2 = []\n",
    "\n",
    "for i in df_num_scaled: #       \n",
    "    fstat,pvalue = stats.f_oneway(Train_set_copy[Train_set_copy['Delivery_Status'] == 0][i],Train_set_copy[Train_set_copy['Delivery_Status'] == 1][i])\n",
    "    x1.append(i)\n",
    "    x2.append(np.format_float_positional(pvalue))\n",
    "stat_test = pd.DataFrame(x2,index=x1,columns=['Pvalue'])\n",
    "stat_test['Significant'] = stat_test['Pvalue'].apply(lambda x: 'Yes' if float(x) < 0.05 else 'No') \n",
    "stat_test"
   ]
  },
  {
   "cell_type": "markdown",
   "metadata": {},
   "source": [
    "#### For Categorical Columns"
   ]
  },
  {
   "cell_type": "code",
   "execution_count": 63,
   "metadata": {},
   "outputs": [
    {
     "data": {
      "text/html": [
       "<div>\n",
       "<style scoped>\n",
       "    .dataframe tbody tr th:only-of-type {\n",
       "        vertical-align: middle;\n",
       "    }\n",
       "\n",
       "    .dataframe tbody tr th {\n",
       "        vertical-align: top;\n",
       "    }\n",
       "\n",
       "    .dataframe thead th {\n",
       "        text-align: right;\n",
       "    }\n",
       "</style>\n",
       "<table border=\"1\" class=\"dataframe\">\n",
       "  <thead>\n",
       "    <tr style=\"text-align: right;\">\n",
       "      <th></th>\n",
       "      <th>Customer_Id</th>\n",
       "      <th>Zipcode</th>\n",
       "      <th>Sales</th>\n",
       "      <th>Price</th>\n",
       "      <th>Dept_Id</th>\n",
       "      <th>Profit_Ratio</th>\n",
       "      <th>Discount</th>\n",
       "      <th>Quantity</th>\n",
       "      <th>Order_Profit</th>\n",
       "      <th>Prod_Category_Id</th>\n",
       "      <th>ProductLength</th>\n",
       "      <th>ProductWeight</th>\n",
       "      <th>Dispatched</th>\n",
       "      <th>Scheduled_Shipping</th>\n",
       "      <th>Delivery_Review</th>\n",
       "      <th>Session_Ordered</th>\n",
       "      <th>WeekdayOrder</th>\n",
       "      <th>Customer_Category</th>\n",
       "      <th>Cust_State</th>\n",
       "      <th>Order_zone</th>\n",
       "      <th>CategoryName</th>\n",
       "      <th>Transcation</th>\n",
       "      <th>Dept_Name</th>\n",
       "      <th>Product_type</th>\n",
       "      <th>Shipping_Class</th>\n",
       "      <th>Warehouse_Region</th>\n",
       "      <th>Delivery_Status</th>\n",
       "    </tr>\n",
       "  </thead>\n",
       "  <tbody>\n",
       "    <tr>\n",
       "      <th>0</th>\n",
       "      <td>1.339255</td>\n",
       "      <td>-0.448498</td>\n",
       "      <td>-0.379579</td>\n",
       "      <td>-0.572502</td>\n",
       "      <td>-0.886855</td>\n",
       "      <td>-0.094692</td>\n",
       "      <td>-0.076898</td>\n",
       "      <td>0.598466</td>\n",
       "      <td>-0.135147</td>\n",
       "      <td>-0.949593</td>\n",
       "      <td>1.736767</td>\n",
       "      <td>-0.282095</td>\n",
       "      <td>-0.806769</td>\n",
       "      <td>0.182170</td>\n",
       "      <td>1.749095</td>\n",
       "      <td>-0.001802</td>\n",
       "      <td>-0.995854</td>\n",
       "      <td>0</td>\n",
       "      <td>1</td>\n",
       "      <td>0</td>\n",
       "      <td>11</td>\n",
       "      <td>3</td>\n",
       "      <td>0</td>\n",
       "      <td>0</td>\n",
       "      <td>3</td>\n",
       "      <td>2</td>\n",
       "      <td>0</td>\n",
       "    </tr>\n",
       "    <tr>\n",
       "      <th>1</th>\n",
       "      <td>-1.003360</td>\n",
       "      <td>-0.880270</td>\n",
       "      <td>-0.254329</td>\n",
       "      <td>-0.581337</td>\n",
       "      <td>-0.886855</td>\n",
       "      <td>0.739455</td>\n",
       "      <td>0.769742</td>\n",
       "      <td>0.598466</td>\n",
       "      <td>0.113751</td>\n",
       "      <td>-0.949593</td>\n",
       "      <td>-0.310277</td>\n",
       "      <td>-0.304725</td>\n",
       "      <td>-0.806769</td>\n",
       "      <td>1.517719</td>\n",
       "      <td>-1.550003</td>\n",
       "      <td>-0.001802</td>\n",
       "      <td>1.004163</td>\n",
       "      <td>0</td>\n",
       "      <td>2</td>\n",
       "      <td>1</td>\n",
       "      <td>11</td>\n",
       "      <td>3</td>\n",
       "      <td>0</td>\n",
       "      <td>0</td>\n",
       "      <td>3</td>\n",
       "      <td>2</td>\n",
       "      <td>0</td>\n",
       "    </tr>\n",
       "  </tbody>\n",
       "</table>\n",
       "</div>"
      ],
      "text/plain": [
       "   Customer_Id   Zipcode     Sales     Price   Dept_Id  Profit_Ratio  \\\n",
       "0     1.339255 -0.448498 -0.379579 -0.572502 -0.886855     -0.094692   \n",
       "1    -1.003360 -0.880270 -0.254329 -0.581337 -0.886855      0.739455   \n",
       "\n",
       "   Discount  Quantity  Order_Profit   Prod_Category_Id  ProductLength  \\\n",
       "0 -0.076898  0.598466      -0.135147         -0.949593       1.736767   \n",
       "1  0.769742  0.598466       0.113751         -0.949593      -0.310277   \n",
       "\n",
       "   ProductWeight  Dispatched  Scheduled_Shipping  Delivery_Review  \\\n",
       "0      -0.282095   -0.806769            0.182170         1.749095   \n",
       "1      -0.304725   -0.806769            1.517719        -1.550003   \n",
       "\n",
       "   Session_Ordered  WeekdayOrder  Customer_Category  Cust_State  Order_zone  \\\n",
       "0        -0.001802     -0.995854                  0           1           0   \n",
       "1        -0.001802      1.004163                  0           2           1   \n",
       "\n",
       "   CategoryName  Transcation  Dept_Name  Product_type  Shipping_Class  \\\n",
       "0            11            3          0             0               3   \n",
       "1            11            3          0             0               3   \n",
       "\n",
       "   Warehouse_Region  Delivery_Status  \n",
       "0                 2                0  \n",
       "1                 2                0  "
      ]
     },
     "execution_count": 63,
     "metadata": {},
     "output_type": "execute_result"
    }
   ],
   "source": [
    "Train_set.head(2)"
   ]
  },
  {
   "cell_type": "code",
   "execution_count": 53,
   "metadata": {
    "scrolled": true
   },
   "outputs": [
    {
     "data": {
      "text/html": [
       "<div>\n",
       "<style scoped>\n",
       "    .dataframe tbody tr th:only-of-type {\n",
       "        vertical-align: middle;\n",
       "    }\n",
       "\n",
       "    .dataframe tbody tr th {\n",
       "        vertical-align: top;\n",
       "    }\n",
       "\n",
       "    .dataframe thead th {\n",
       "        text-align: right;\n",
       "    }\n",
       "</style>\n",
       "<table border=\"1\" class=\"dataframe\">\n",
       "  <thead>\n",
       "    <tr style=\"text-align: right;\">\n",
       "      <th></th>\n",
       "      <th>Pvalue</th>\n",
       "      <th>Significant</th>\n",
       "    </tr>\n",
       "  </thead>\n",
       "  <tbody>\n",
       "    <tr>\n",
       "      <th>Customer_Category</th>\n",
       "      <td>0.8136180863755129</td>\n",
       "      <td>No</td>\n",
       "    </tr>\n",
       "    <tr>\n",
       "      <th>Cust_State</th>\n",
       "      <td>0.36592787189349185</td>\n",
       "      <td>No</td>\n",
       "    </tr>\n",
       "    <tr>\n",
       "      <th>Order_zone</th>\n",
       "      <td>0.6765708660112342</td>\n",
       "      <td>No</td>\n",
       "    </tr>\n",
       "    <tr>\n",
       "      <th>CategoryName</th>\n",
       "      <td>0.6594589219621426</td>\n",
       "      <td>No</td>\n",
       "    </tr>\n",
       "    <tr>\n",
       "      <th>Transcation</th>\n",
       "      <td>0.00000000000000000000000000000000000000000000...</td>\n",
       "      <td>Yes</td>\n",
       "    </tr>\n",
       "    <tr>\n",
       "      <th>Dept_Name</th>\n",
       "      <td>0.2586274331356891</td>\n",
       "      <td>No</td>\n",
       "    </tr>\n",
       "    <tr>\n",
       "      <th>Product_type</th>\n",
       "      <td>0.0003428487324549881</td>\n",
       "      <td>Yes</td>\n",
       "    </tr>\n",
       "    <tr>\n",
       "      <th>Shipping_Class</th>\n",
       "      <td>0.</td>\n",
       "      <td>Yes</td>\n",
       "    </tr>\n",
       "    <tr>\n",
       "      <th>Warehouse_Region</th>\n",
       "      <td>0.9843889319770143</td>\n",
       "      <td>No</td>\n",
       "    </tr>\n",
       "  </tbody>\n",
       "</table>\n",
       "</div>"
      ],
      "text/plain": [
       "                                                              Pvalue  \\\n",
       "Customer_Category                                 0.8136180863755129   \n",
       "Cust_State                                       0.36592787189349185   \n",
       "Order_zone                                        0.6765708660112342   \n",
       "CategoryName                                      0.6594589219621426   \n",
       "Transcation        0.00000000000000000000000000000000000000000000...   \n",
       "Dept_Name                                         0.2586274331356891   \n",
       "Product_type                                   0.0003428487324549881   \n",
       "Shipping_Class                                                    0.   \n",
       "Warehouse_Region                                  0.9843889319770143   \n",
       "\n",
       "                  Significant  \n",
       "Customer_Category          No  \n",
       "Cust_State                 No  \n",
       "Order_zone                 No  \n",
       "CategoryName               No  \n",
       "Transcation               Yes  \n",
       "Dept_Name                  No  \n",
       "Product_type              Yes  \n",
       "Shipping_Class            Yes  \n",
       "Warehouse_Region           No  "
      ]
     },
     "execution_count": 53,
     "metadata": {},
     "output_type": "execute_result"
    }
   ],
   "source": [
    "x3 = []\n",
    "x4 = []\n",
    "\n",
    "for i in(Cat_var_coded.columns):\n",
    "    teststats,pvalue,dof,exp_freq = stats.chi2_contingency(pd.crosstab(Train_set[i],Train_set['Delivery_Status']))\n",
    "    x3.append(i)\n",
    "    x4.append(np.format_float_positional(pvalue))\n",
    "stat_test_1 = pd.DataFrame(x4,index=x3,columns=['Pvalue'])\n",
    "stat_test_1['Significant'] = stat_test_1['Pvalue'].apply(lambda x: 'Yes' if float(x) < 0.05 else 'No') \n",
    "stat_test_1"
   ]
  },
  {
   "cell_type": "markdown",
   "metadata": {},
   "source": [
    "### Splitting Train Data into Train set and Validation set i.e. Test set"
   ]
  },
  {
   "cell_type": "code",
   "execution_count": 75,
   "metadata": {},
   "outputs": [],
   "source": [
    "X = Train_set.drop(['Delivery_Status'], axis = 1)\n",
    "y = Train_set['Delivery_Status']"
   ]
  },
  {
   "cell_type": "markdown",
   "metadata": {},
   "source": [
    "## Model Building "
   ]
  },
  {
   "cell_type": "markdown",
   "metadata": {},
   "source": [
    "### Model 1 - LogisticRegression"
   ]
  },
  {
   "cell_type": "code",
   "execution_count": 109,
   "metadata": {},
   "outputs": [
    {
     "name": "stdout",
     "output_type": "stream",
     "text": [
      "Training Accuracy 0.6962112968641805\n",
      "Testing Accuracy 0.6948917817433625\n",
      "\n",
      "\n",
      "Train ROC AUC score: 0.6119972079534175\n",
      "Test ROC AUC score: 0.6121977696333771\n",
      "\n",
      "\n",
      "Train Classification Report:\n",
      "               precision    recall  f1-score   support\n",
      "\n",
      "           0       0.74      0.86      0.79     67952\n",
      "           1       0.56      0.37      0.44     33138\n",
      "\n",
      "    accuracy                           0.70    101090\n",
      "   macro avg       0.65      0.61      0.62    101090\n",
      "weighted avg       0.68      0.70      0.68    101090\n",
      "\n",
      "Test Classification Report:\n",
      "               precision    recall  f1-score   support\n",
      "\n",
      "           0       0.73      0.85      0.79     16960\n",
      "           1       0.55      0.37      0.44      8313\n",
      "\n",
      "    accuracy                           0.69     25273\n",
      "   macro avg       0.64      0.61      0.62     25273\n",
      "weighted avg       0.68      0.69      0.68     25273\n",
      "\n"
     ]
    }
   ],
   "source": [
    "X_train, X_test, y_train, y_test = train_test_split(X,y,test_size = 0.2,random_state = 1)\n",
    "\n",
    "from sklearn.linear_model import LogisticRegression\n",
    "model = LogisticRegression()\n",
    "\n",
    "model.fit(X_train,y_train)\n",
    "\n",
    "train_predicted = model.predict(X_train)\n",
    "test_predicted = model.predict(X_test)\n",
    "\n",
    "print(\"Training Accuracy\", model.score(X_train,y_train))\n",
    "print(\"Testing Accuracy\", model.score(X_test,y_test))\n",
    "\n",
    "print(\"\\n\")\n",
    "print(\"Train ROC AUC score:\",metrics.roc_auc_score(y_train,train_predicted))\n",
    "print(\"Test ROC AUC score:\",metrics.roc_auc_score(y_test,test_predicted))\n",
    "print(\"\\n\")\n",
    "\n",
    "print(\"Train Classification Report:\\n\", classification_report(y_train,train_predicted))\n",
    "print(\"Test Classification Report:\\n\", classification_report(y_test,test_predicted))"
   ]
  },
  {
   "cell_type": "markdown",
   "metadata": {},
   "source": [
    "### Model 2 - DecisionTreeClassifier"
   ]
  },
  {
   "cell_type": "code",
   "execution_count": 110,
   "metadata": {},
   "outputs": [
    {
     "name": "stdout",
     "output_type": "stream",
     "text": [
      "Training Accuracy 1.0\n",
      "Testing Accuracy 0.715704506785898\n",
      "\n",
      "\n",
      "Train ROC AUC score: 1.0\n",
      "Test ROC AUC score: 0.6764325248417459\n",
      "\n",
      "\n",
      "Train Classification Report:\n",
      "               precision    recall  f1-score   support\n",
      "\n",
      "           0       1.00      1.00      1.00     67952\n",
      "           1       1.00      1.00      1.00     33138\n",
      "\n",
      "    accuracy                           1.00    101090\n",
      "   macro avg       1.00      1.00      1.00    101090\n",
      "weighted avg       1.00      1.00      1.00    101090\n",
      "\n",
      "Test Classification Report:\n",
      "               precision    recall  f1-score   support\n",
      "\n",
      "           0       0.79      0.79      0.79     16960\n",
      "           1       0.57      0.56      0.57      8313\n",
      "\n",
      "    accuracy                           0.72     25273\n",
      "   macro avg       0.68      0.68      0.68     25273\n",
      "weighted avg       0.71      0.72      0.72     25273\n",
      "\n"
     ]
    }
   ],
   "source": [
    "X_train, X_test, y_train, y_test = train_test_split(X,y,test_size = 0.2,random_state = 1)\n",
    "\n",
    "from sklearn.tree import DecisionTreeClassifier\n",
    "model = DecisionTreeClassifier(random_state=0)\n",
    "\n",
    "model.fit(X_train,y_train)\n",
    "\n",
    "train_predicted = model.predict(X_train)\n",
    "test_predicted = model.predict(X_test)\n",
    "\n",
    "print(\"Training Accuracy\", model.score(X_train,y_train))\n",
    "print(\"Testing Accuracy\", model.score(X_test,y_test))\n",
    "\n",
    "print(\"\\n\")\n",
    "print(\"Train ROC AUC score:\",metrics.roc_auc_score(y_train,train_predicted))\n",
    "print(\"Test ROC AUC score:\",metrics.roc_auc_score(y_test,test_predicted))\n",
    "print(\"\\n\")\n",
    "\n",
    "print(\"Train Classification Report:\\n\", classification_report(y_train,train_predicted))\n",
    "print(\"Test Classification Report:\\n\", classification_report(y_test,test_predicted))"
   ]
  },
  {
   "cell_type": "code",
   "execution_count": 50,
   "metadata": {},
   "outputs": [],
   "source": [
    "# X_new = X.drop(['Dept_Id', 'Product_type'], axis=1)"
   ]
  },
  {
   "cell_type": "code",
   "execution_count": 113,
   "metadata": {},
   "outputs": [
    {
     "name": "stdout",
     "output_type": "stream",
     "text": [
      "Training Accuracy 0.7624987634780889\n",
      "Testing Accuracy 0.7413445178649152\n",
      "\n",
      "\n",
      "Train ROC AUC score: 0.7684457936694808\n",
      "Test ROC AUC score: 0.7434973375129655\n",
      "\n",
      "\n",
      "Train Classification Report:\n",
      "               precision    recall  f1-score   support\n",
      "\n",
      "           0       0.88      0.75      0.81     67952\n",
      "           1       0.61      0.79      0.68     33138\n",
      "\n",
      "    accuracy                           0.76    101090\n",
      "   macro avg       0.74      0.77      0.75    101090\n",
      "weighted avg       0.79      0.76      0.77    101090\n",
      "\n",
      "Test Classification Report:\n",
      "               precision    recall  f1-score   support\n",
      "\n",
      "           0       0.86      0.74      0.79     16960\n",
      "           1       0.58      0.75      0.66      8313\n",
      "\n",
      "    accuracy                           0.74     25273\n",
      "   macro avg       0.72      0.74      0.72     25273\n",
      "weighted avg       0.77      0.74      0.75     25273\n",
      "\n"
     ]
    }
   ],
   "source": [
    "X_train, X_test, y_train, y_test = train_test_split(X,y,test_size = 0.2,random_state = 1)\n",
    "\n",
    "from sklearn.tree import DecisionTreeClassifier\n",
    "model = DecisionTreeClassifier(criterion='gini',max_depth=10,random_state=0)\n",
    "\n",
    "model.fit(X_train,y_train)\n",
    "\n",
    "train_predicted = model.predict(X_train)\n",
    "test_predicted = model.predict(X_test)\n",
    "\n",
    "print(\"Training Accuracy\", model.score(X_train,y_train))\n",
    "print(\"Testing Accuracy\", model.score(X_test,y_test))\n",
    "\n",
    "print(\"\\n\")\n",
    "print(\"Train ROC AUC score:\",metrics.roc_auc_score(y_train,train_predicted))\n",
    "print(\"Test ROC AUC score:\",metrics.roc_auc_score(y_test,test_predicted))\n",
    "print(\"\\n\")\n",
    "\n",
    "print(\"Train Classification Report:\\n\", classification_report(y_train,train_predicted))\n",
    "print(\"Test Classification Report:\\n\", classification_report(y_test,test_predicted))"
   ]
  },
  {
   "cell_type": "code",
   "execution_count": null,
   "metadata": {},
   "outputs": [],
   "source": []
  },
  {
   "cell_type": "markdown",
   "metadata": {},
   "source": [
    "### BEST "
   ]
  },
  {
   "cell_type": "code",
   "execution_count": 90,
   "metadata": {},
   "outputs": [
    {
     "name": "stdout",
     "output_type": "stream",
     "text": [
      "Training Accuracy 0.7403402908299535\n",
      "Testing Accuracy 0.7352906263601472\n",
      "\n",
      "\n",
      "Train ROC AUC score: 0.7608456660634568\n",
      "Test ROC AUC score: 0.7542582060605235\n",
      "\n",
      "\n",
      "Train Classification Report:\n",
      "               precision    recall  f1-score   support\n",
      "\n",
      "           0       0.89      0.70      0.78     67952\n",
      "           1       0.57      0.82      0.67     33138\n",
      "\n",
      "    accuracy                           0.74    101090\n",
      "   macro avg       0.73      0.76      0.73    101090\n",
      "weighted avg       0.79      0.74      0.75    101090\n",
      "\n",
      "Test Classification Report:\n",
      "               precision    recall  f1-score   support\n",
      "\n",
      "           0       0.88      0.70      0.78     16960\n",
      "           1       0.57      0.81      0.67      8313\n",
      "\n",
      "    accuracy                           0.74     25273\n",
      "   macro avg       0.73      0.75      0.72     25273\n",
      "weighted avg       0.78      0.74      0.74     25273\n",
      "\n"
     ]
    }
   ],
   "source": [
    "X_train, X_test, y_train, y_test = train_test_split(X_new,y,test_size = 0.2,random_state = 1)\n",
    "\n",
    "from sklearn.tree import DecisionTreeClassifier\n",
    "model = DecisionTreeClassifier(criterion = 'entropy',\n",
    "                                  max_depth = 50,\n",
    "                                  min_samples_split = 10,\n",
    "                                  max_leaf_nodes = 6,\n",
    "                                  random_state = 10)\n",
    "\n",
    "# {'criterion': ['entropy', 'gini'], \n",
    "# #                      'max_depth': range(2, 10),\n",
    "# #                      'max_features': [\"sqrt\", \"log2\"],\n",
    "# #                      'min_samples_split': range(2,10),\n",
    "# #                      'min_samples_leaf': range(1,10),\n",
    "# #                      'max_leaf_nodes': range(1, 10)}\n",
    "\n",
    "model.fit(X_train,y_train)\n",
    "\n",
    "train_predicted = model.predict(X_train)\n",
    "test_predicted = model.predict(X_test)\n",
    "\n",
    "print(\"Training Accuracy\", model.score(X_train,y_train))\n",
    "print(\"Testing Accuracy\", model.score(X_test,y_test))\n",
    "\n",
    "print(\"\\n\")\n",
    "print(\"Train ROC AUC score:\",metrics.roc_auc_score(y_train,train_predicted))\n",
    "print(\"Test ROC AUC score:\",metrics.roc_auc_score(y_test,test_predicted))\n",
    "print(\"\\n\")\n",
    "\n",
    "print(\"Train Classification Report:\\n\", classification_report(y_train,train_predicted))\n",
    "print(\"Test Classification Report:\\n\", classification_report(y_test,test_predicted))"
   ]
  },
  {
   "cell_type": "code",
   "execution_count": null,
   "metadata": {},
   "outputs": [],
   "source": []
  },
  {
   "cell_type": "markdown",
   "metadata": {},
   "source": [
    "#### TUNING "
   ]
  },
  {
   "cell_type": "code",
   "execution_count": null,
   "metadata": {},
   "outputs": [],
   "source": [
    "# tuned_paramaters = [{'criterion': ['entropy', 'gini'], \n",
    "#                      'max_depth': range(2, 10),\n",
    "#                      'max_features': [\"sqrt\", \"log2\"],\n",
    "#                      'min_samples_split': range(2,10),\n",
    "#                      'min_samples_leaf': range(1,10),\n",
    "#                      'max_leaf_nodes': range(1, 10)}]\n",
    " \n",
    "# model = DecisionTreeClassifier(random_state = 10)\n",
    "\n",
    "# tree_grid = GridSearchCV(estimator = model, \n",
    "#                          param_grid = tuned_paramaters, \n",
    "#                          cv = 5)\n",
    "\n",
    "# tree_grid_model = tree_grid.fit(X_train, y_train)\n",
    "\n",
    "# print('Best parameters for decision tree classifier: ', tree_grid_model.best_params_, '\\n')"
   ]
  },
  {
   "cell_type": "code",
   "execution_count": null,
   "metadata": {},
   "outputs": [],
   "source": [
    "# model = DecisionTreeClassifier(criterion = tree_grid_model.best_params_.get('criterion'),\n",
    "#                                   max_depth = tree_grid_model.best_params_.get('max_depth'),\n",
    "#                                   max_features = tree_grid_model.best_params_.get('max_features'),\n",
    "#                                   max_leaf_nodes = tree_grid_model.best_params_.get('max_leaf_nodes'),\n",
    "#                                   min_samples_leaf = tree_grid_model.best_params_.get('min_samples_leaf'),\n",
    "#                                   min_samples_split = tree_grid_model.best_params_.get('min_samples_split'),\n",
    "#                                   random_state = 10)\n",
    "\n",
    "# model = model.fit(X_train, y_train)"
   ]
  },
  {
   "cell_type": "markdown",
   "metadata": {},
   "source": [
    "### Model 3 - RandonForestClassifier"
   ]
  },
  {
   "cell_type": "code",
   "execution_count": 118,
   "metadata": {},
   "outputs": [
    {
     "name": "stdout",
     "output_type": "stream",
     "text": [
      "Training Accuracy 0.9925808685329904\n",
      "Testing Accuracy 0.7084240098128437\n",
      "\n",
      "\n",
      "Train ROC AUC score: 0.9900519464890726\n",
      "Test ROC AUC score: 0.6523326302971704\n",
      "\n",
      "\n",
      "Train Classification Report:\n",
      "               precision    recall  f1-score   support\n",
      "\n",
      "           0       0.99      1.00      0.99     67952\n",
      "           1       0.99      0.98      0.99     33138\n",
      "\n",
      "    accuracy                           0.99    101090\n",
      "   macro avg       0.99      0.99      0.99    101090\n",
      "weighted avg       0.99      0.99      0.99    101090\n",
      "\n",
      "Test Classification Report:\n",
      "               precision    recall  f1-score   support\n",
      "\n",
      "           0       0.76      0.82      0.79     16960\n",
      "           1       0.57      0.49      0.52      8313\n",
      "\n",
      "    accuracy                           0.71     25273\n",
      "   macro avg       0.67      0.65      0.66     25273\n",
      "weighted avg       0.70      0.71      0.70     25273\n",
      "\n"
     ]
    }
   ],
   "source": [
    "X_train, X_test, y_train, y_test = train_test_split(X,y,test_size = 0.2,random_state = 1)\n",
    "\n",
    "from sklearn.ensemble import RandomForestClassifier\n",
    "model = RandomForestClassifier(n_estimators = 10,random_state = 10)\n",
    "\n",
    "model.fit(X_train,y_train)\n",
    "\n",
    "train_predicted = model.predict(X_train)\n",
    "test_predicted = model.predict(X_test)\n",
    "\n",
    "print(\"Training Accuracy\", model.score(X_train,y_train))\n",
    "print(\"Testing Accuracy\", model.score(X_test,y_test))\n",
    "\n",
    "print(\"\\n\")\n",
    "print(\"Train ROC AUC score:\",metrics.roc_auc_score(y_train,train_predicted))\n",
    "print(\"Test ROC AUC score:\",metrics.roc_auc_score(y_test,test_predicted))\n",
    "print(\"\\n\")\n",
    "\n",
    "print(\"Train Classification Report:\\n\", classification_report(y_train,train_predicted))\n",
    "print(\"Test Classification Report:\\n\", classification_report(y_test,test_predicted))"
   ]
  },
  {
   "cell_type": "code",
   "execution_count": null,
   "metadata": {},
   "outputs": [],
   "source": [
    "X_train, X_test, y_train, y_test = train_test_split(X,y,test_size = 0.2,random_state = 1)\n",
    "\n",
    "tuned_paramaters = [{'criterion': ['entropy', 'gini'],\n",
    "                     'n_estimators': [10, 30, 50, 70, 90],\n",
    "                     'max_depth': [10, 15, 20],\n",
    "                     'max_features': ['sqrt', 'log2'],\n",
    "                     'min_samples_split': [2, 5, 8, 11],\n",
    "                     'min_samples_leaf': [1, 5, 9],\n",
    "                     'max_leaf_nodes': [2, 5, 8, 11]}]\n",
    "\n",
    "random_forest_classification = RandomForestClassifier(random_state = 10)\n",
    "\n",
    "rf_grid = GridSearchCV(estimator = random_forest_classification, \n",
    "                       param_grid = tuned_paramaters, \n",
    "                       cv = 5)\n",
    "\n",
    "rf_grid_model = rf_grid.fit(X_train, y_train)\n",
    "\n",
    "print('Best parameters for random forest classifier: ', rf_grid_model.best_params_, '\\n')"
   ]
  },
  {
   "cell_type": "code",
   "execution_count": null,
   "metadata": {},
   "outputs": [],
   "source": []
  },
  {
   "cell_type": "code",
   "execution_count": 121,
   "metadata": {},
   "outputs": [
    {
     "name": "stdout",
     "output_type": "stream",
     "text": [
      "Training Accuracy 0.7720546048075972\n",
      "Testing Accuracy 0.7318086495469474\n",
      "\n",
      "\n",
      "Train ROC AUC score: 0.7499201338799925\n",
      "Test ROC AUC score: 0.7014335710265122\n",
      "\n",
      "\n",
      "Train Classification Report:\n",
      "               precision    recall  f1-score   support\n",
      "\n",
      "           0       0.84      0.81      0.83     67952\n",
      "           1       0.64      0.69      0.66     33138\n",
      "\n",
      "    accuracy                           0.77    101090\n",
      "   macro avg       0.74      0.75      0.75    101090\n",
      "weighted avg       0.78      0.77      0.77    101090\n",
      "\n",
      "Test Classification Report:\n",
      "               precision    recall  f1-score   support\n",
      "\n",
      "           0       0.81      0.79      0.80     16960\n",
      "           1       0.59      0.61      0.60      8313\n",
      "\n",
      "    accuracy                           0.73     25273\n",
      "   macro avg       0.70      0.70      0.70     25273\n",
      "weighted avg       0.73      0.73      0.73     25273\n",
      "\n"
     ]
    }
   ],
   "source": [
    "X_train, X_test, y_train, y_test = train_test_split(X,y,test_size = 0.2,random_state = 1)\n",
    "\n",
    "from sklearn.ensemble import RandomForestClassifier\n",
    "model = RandomForestClassifier(n_estimators=50,criterion='gini',max_depth=10,random_state=0)\n",
    "\n",
    "model.fit(X_train,y_train)\n",
    "\n",
    "train_predicted = model.predict(X_train)\n",
    "test_predicted = model.predict(X_test)\n",
    "\n",
    "print(\"Training Accuracy\", model.score(X_train,y_train))\n",
    "print(\"Testing Accuracy\", model.score(X_test,y_test))\n",
    "\n",
    "print(\"\\n\")\n",
    "print(\"Train ROC AUC score:\",metrics.roc_auc_score(y_train,train_predicted))\n",
    "print(\"Test ROC AUC score:\",metrics.roc_auc_score(y_test,test_predicted))\n",
    "print(\"\\n\")\n",
    "\n",
    "print(\"Train Classification Report:\\n\", classification_report(y_train,train_predicted))\n",
    "print(\"Test Classification Report:\\n\", classification_report(y_test,test_predicted))"
   ]
  },
  {
   "cell_type": "code",
   "execution_count": null,
   "metadata": {},
   "outputs": [],
   "source": [
    "X_train, X_test, y_train, y_test = train_test_split(X,y,test_size = 0.2,random_state = 1)\n",
    "\n",
    "from sklearn.ensemble import RandomForestClassifier\n",
    "model = RandomForestClassifier(n_estimators=10,criterion='entropy',max_depth=10,random_state=0)\n",
    "\n",
    "model.fit(X_train,y_train)\n",
    "\n",
    "train_predicted = model.predict(X_train)\n",
    "test_predicted = model.predict(X_test)\n",
    "\n",
    "print(\"Training Accuracy\", model.score(X_train,y_train))\n",
    "print(\"Testing Accuracy\", model.score(X_test,y_test))\n",
    "\n",
    "print(\"\\n\")\n",
    "print(\"Train ROC AUC score:\",metrics.roc_auc_score(y_train,train_predicted))\n",
    "print(\"Test ROC AUC score:\",metrics.roc_auc_score(y_test,test_predicted))\n",
    "print(\"\\n\")\n",
    "\n",
    "print(\"Train Classification Report:\\n\", classification_report(y_train,train_predicted))\n",
    "print(\"Test Classification Report:\\n\", classification_report(y_test,test_predicted))"
   ]
  },
  {
   "cell_type": "markdown",
   "metadata": {},
   "source": [
    "### KNN"
   ]
  },
  {
   "cell_type": "code",
   "execution_count": null,
   "metadata": {},
   "outputs": [],
   "source": [
    "X_train, X_test, y_train, y_test = train_test_split(X,y,test_size = 0.2,random_state = 1)\n",
    "\n",
    "from sklearn.ensemble import RandomForestClassifier\n",
    "model = KNeighborsClassifier(n_neighbors = 3)\n",
    "\n",
    "model.fit(X_train,y_train)\n",
    "\n",
    "train_predicted = model.predict(X_train)\n",
    "test_predicted = model.predict(X_test)\n",
    "\n",
    "print(\"Training Accuracy\", model.score(X_train,y_train))\n",
    "print(\"Testing Accuracy\", model.score(X_test,y_test))\n",
    "\n",
    "print(\"\\n\")\n",
    "print(\"Train ROC AUC score:\",metrics.roc_auc_score(y_train,train_predicted))\n",
    "print(\"Test ROC AUC score:\",metrics.roc_auc_score(y_test,test_predicted))\n",
    "print(\"\\n\")\n",
    "\n",
    "print(\"Train Classification Report:\\n\", classification_report(y_train,train_predicted))\n",
    "print(\"Test Classification Report:\\n\", classification_report(y_test,test_predicted))"
   ]
  },
  {
   "cell_type": "code",
   "execution_count": null,
   "metadata": {},
   "outputs": [],
   "source": []
  },
  {
   "cell_type": "code",
   "execution_count": null,
   "metadata": {},
   "outputs": [],
   "source": []
  },
  {
   "cell_type": "code",
   "execution_count": null,
   "metadata": {},
   "outputs": [],
   "source": []
  },
  {
   "cell_type": "code",
   "execution_count": null,
   "metadata": {},
   "outputs": [],
   "source": []
  },
  {
   "cell_type": "markdown",
   "metadata": {},
   "source": [
    "### Tuned RF Model"
   ]
  },
  {
   "cell_type": "code",
   "execution_count": null,
   "metadata": {},
   "outputs": [],
   "source": []
  },
  {
   "cell_type": "code",
   "execution_count": null,
   "metadata": {},
   "outputs": [],
   "source": []
  },
  {
   "cell_type": "code",
   "execution_count": null,
   "metadata": {},
   "outputs": [],
   "source": []
  },
  {
   "cell_type": "code",
   "execution_count": 54,
   "metadata": {},
   "outputs": [
    {
     "data": {
      "text/html": [
       "<div>\n",
       "<style scoped>\n",
       "    .dataframe tbody tr th:only-of-type {\n",
       "        vertical-align: middle;\n",
       "    }\n",
       "\n",
       "    .dataframe tbody tr th {\n",
       "        vertical-align: top;\n",
       "    }\n",
       "\n",
       "    .dataframe thead th {\n",
       "        text-align: right;\n",
       "    }\n",
       "</style>\n",
       "<table border=\"1\" class=\"dataframe\">\n",
       "  <thead>\n",
       "    <tr style=\"text-align: right;\">\n",
       "      <th></th>\n",
       "      <th>Customer_Id</th>\n",
       "      <th>Zipcode</th>\n",
       "      <th>Sales</th>\n",
       "      <th>Price</th>\n",
       "      <th>Profit_Ratio</th>\n",
       "      <th>Discount</th>\n",
       "      <th>Quantity</th>\n",
       "      <th>Order_Profit</th>\n",
       "      <th>Prod_Category_Id</th>\n",
       "      <th>ProductLength</th>\n",
       "      <th>ProductWeight</th>\n",
       "      <th>Dispatched</th>\n",
       "      <th>Scheduled_Shipping</th>\n",
       "      <th>Delivery_Review</th>\n",
       "      <th>Session_Ordered</th>\n",
       "      <th>WeekdayOrder</th>\n",
       "      <th>Customer_Category</th>\n",
       "      <th>Cust_State</th>\n",
       "      <th>Order_zone</th>\n",
       "      <th>CategoryName</th>\n",
       "      <th>Transcation</th>\n",
       "      <th>Dept_Name</th>\n",
       "      <th>Shipping_Class</th>\n",
       "      <th>Warehouse_Region</th>\n",
       "    </tr>\n",
       "  </thead>\n",
       "  <tbody>\n",
       "    <tr>\n",
       "      <th>0</th>\n",
       "      <td>-0.912621</td>\n",
       "      <td>-0.936478</td>\n",
       "      <td>-0.181501</td>\n",
       "      <td>-0.72786</td>\n",
       "      <td>-1.689855</td>\n",
       "      <td>-0.501509</td>\n",
       "      <td>1.98368</td>\n",
       "      <td>-0.42934</td>\n",
       "      <td>-0.180914</td>\n",
       "      <td>-1.294907</td>\n",
       "      <td>-0.267796</td>\n",
       "      <td>-0.804818</td>\n",
       "      <td>1.523889</td>\n",
       "      <td>1.748604</td>\n",
       "      <td>0.050977</td>\n",
       "      <td>0.997455</td>\n",
       "      <td>2</td>\n",
       "      <td>5</td>\n",
       "      <td>4</td>\n",
       "      <td>22</td>\n",
       "      <td>3</td>\n",
       "      <td>6</td>\n",
       "      <td>3</td>\n",
       "      <td>2</td>\n",
       "    </tr>\n",
       "  </tbody>\n",
       "</table>\n",
       "</div>"
      ],
      "text/plain": [
       "   Customer_Id   Zipcode     Sales    Price  Profit_Ratio  Discount  Quantity  \\\n",
       "0    -0.912621 -0.936478 -0.181501 -0.72786     -1.689855 -0.501509   1.98368   \n",
       "\n",
       "   Order_Profit   Prod_Category_Id  ProductLength  ProductWeight  Dispatched  \\\n",
       "0       -0.42934         -0.180914      -1.294907      -0.267796   -0.804818   \n",
       "\n",
       "   Scheduled_Shipping  Delivery_Review  Session_Ordered  WeekdayOrder  \\\n",
       "0            1.523889         1.748604         0.050977      0.997455   \n",
       "\n",
       "   Customer_Category  Cust_State  Order_zone  CategoryName  Transcation  \\\n",
       "0                  2           5           4            22            3   \n",
       "\n",
       "   Dept_Name  Shipping_Class  Warehouse_Region  \n",
       "0          6               3                 2  "
      ]
     },
     "execution_count": 54,
     "metadata": {},
     "output_type": "execute_result"
    }
   ],
   "source": [
    "Test_set = Test_set.drop(['Dept_Id', 'Product_type'], axis=1)\n",
    "Test_set.head(1)"
   ]
  },
  {
   "cell_type": "code",
   "execution_count": 91,
   "metadata": {},
   "outputs": [],
   "source": [
    "Test_new = Test_set.drop([\"Customer_Id\",\"Zipcode\",'Sales', 'Price', 'Dept_Id', 'Profit_Ratio','Discount', 'Quantity', 'Order_Profit ', 'Prod_Category_Id', 'ProductWeight', 'Dispatched',\n",
    "       'Delivery_Review', 'Session_Ordered', 'WeekdayOrder',\"Customer_Category\", \"Cust_State\", \"Order_zone\", \"CategoryName\",\"Dept_Name\",\"Warehouse_Region\"], axis=1)"
   ]
  },
  {
   "cell_type": "markdown",
   "metadata": {},
   "source": [
    "### Predicting on test data using Random Forest model "
   ]
  },
  {
   "cell_type": "code",
   "execution_count": 94,
   "metadata": {},
   "outputs": [],
   "source": [
    "Final_Prediction = model.predict(Test_new)\n",
    "submission=pd.DataFrame([Test_set_Ids,Final_Prediction]).T\n",
    "submission.rename(columns={\"Unnamed 0\": \"Delivery_Status\"},inplace=True)\n",
    "submission.to_csv('submission.csv',index = False)"
   ]
  },
  {
   "cell_type": "code",
   "execution_count": 95,
   "metadata": {},
   "outputs": [
    {
     "data": {
      "text/html": [
       "<div>\n",
       "<style scoped>\n",
       "    .dataframe tbody tr th:only-of-type {\n",
       "        vertical-align: middle;\n",
       "    }\n",
       "\n",
       "    .dataframe tbody tr th {\n",
       "        vertical-align: top;\n",
       "    }\n",
       "\n",
       "    .dataframe thead th {\n",
       "        text-align: right;\n",
       "    }\n",
       "</style>\n",
       "<table border=\"1\" class=\"dataframe\">\n",
       "  <thead>\n",
       "    <tr style=\"text-align: right;\">\n",
       "      <th></th>\n",
       "      <th>OrderId</th>\n",
       "      <th>Delivery_Status</th>\n",
       "    </tr>\n",
       "  </thead>\n",
       "  <tbody>\n",
       "    <tr>\n",
       "      <th>0</th>\n",
       "      <td>2372881</td>\n",
       "      <td>1</td>\n",
       "    </tr>\n",
       "    <tr>\n",
       "      <th>1</th>\n",
       "      <td>2445349</td>\n",
       "      <td>0</td>\n",
       "    </tr>\n",
       "    <tr>\n",
       "      <th>2</th>\n",
       "      <td>2441537</td>\n",
       "      <td>1</td>\n",
       "    </tr>\n",
       "    <tr>\n",
       "      <th>3</th>\n",
       "      <td>2461867</td>\n",
       "      <td>1</td>\n",
       "    </tr>\n",
       "    <tr>\n",
       "      <th>4</th>\n",
       "      <td>2461659</td>\n",
       "      <td>0</td>\n",
       "    </tr>\n",
       "  </tbody>\n",
       "</table>\n",
       "</div>"
      ],
      "text/plain": [
       "   OrderId  Delivery_Status\n",
       "0  2372881                1\n",
       "1  2445349                0\n",
       "2  2441537                1\n",
       "3  2461867                1\n",
       "4  2461659                0"
      ]
     },
     "execution_count": 95,
     "metadata": {},
     "output_type": "execute_result"
    }
   ],
   "source": [
    "submission.head()"
   ]
  },
  {
   "cell_type": "code",
   "execution_count": null,
   "metadata": {},
   "outputs": [],
   "source": []
  }
 ],
 "metadata": {
  "kernelspec": {
   "display_name": "Python 3",
   "language": "python",
   "name": "python3"
  },
  "language_info": {
   "codemirror_mode": {
    "name": "ipython",
    "version": 3
   },
   "file_extension": ".py",
   "mimetype": "text/x-python",
   "name": "python",
   "nbconvert_exporter": "python",
   "pygments_lexer": "ipython3",
   "version": "3.8.5"
  }
 },
 "nbformat": 4,
 "nbformat_minor": 4
}
